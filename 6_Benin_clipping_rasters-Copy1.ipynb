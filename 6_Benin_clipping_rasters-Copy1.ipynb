{
 "cells": [
  {
   "cell_type": "code",
   "execution_count": 33,
   "id": "39a37dfe",
   "metadata": {},
   "outputs": [],
   "source": [
    "from osgeo import gdal\n",
    "import os"
   ]
  },
  {
   "cell_type": "code",
   "execution_count": 78,
   "id": "53862948",
   "metadata": {},
   "outputs": [],
   "source": [
    "inputPath = 'data/20180116/'\n",
    "outputPath = 'data/20180116/'\n"
   ]
  },
  {
   "cell_type": "code",
   "execution_count": 79,
   "id": "ffcf3439",
   "metadata": {
    "scrolled": true
   },
   "outputs": [
    {
     "data": {
      "text/plain": [
       "['0_B03_20180116.tif',\n",
       " '0_B02_20180116.tif',\n",
       " '0_B04_20180116.tif',\n",
       " '0_B08_20180116.tif']"
      ]
     },
     "execution_count": 79,
     "metadata": {},
     "output_type": "execute_result"
    }
   ],
   "source": [
    "bandList = [band for band in os.listdir(inputPath) if band.endswith(\".tif\")]\n",
    "bandList\n",
    "# len(bandList)"
   ]
  },
  {
   "cell_type": "code",
   "execution_count": 80,
   "id": "1c114c3e",
   "metadata": {},
   "outputs": [],
   "source": [
    "shp_clip = 'data/aoi.shp'"
   ]
  },
  {
   "cell_type": "code",
   "execution_count": 81,
   "id": "7cb16faf",
   "metadata": {
    "scrolled": true
   },
   "outputs": [
    {
     "name": "stdout",
     "output_type": "stream",
     "text": [
      "0_B03_20180116.tif\n"
     ]
    },
    {
     "name": "stderr",
     "output_type": "stream",
     "text": [
      "ERROR 4: Unable to open EPSG support file gcs.csv.  Try setting the GDAL_DATA environment variable to point to the directory containing EPSG csv files.\n"
     ]
    },
    {
     "name": "stdout",
     "output_type": "stream",
     "text": [
      "0_B02_20180116.tif\n"
     ]
    },
    {
     "name": "stderr",
     "output_type": "stream",
     "text": [
      "ERROR 4: Unable to open EPSG support file gcs.csv.  Try setting the GDAL_DATA environment variable to point to the directory containing EPSG csv files.\n"
     ]
    },
    {
     "name": "stdout",
     "output_type": "stream",
     "text": [
      "0_B04_20180116.tif\n"
     ]
    },
    {
     "name": "stderr",
     "output_type": "stream",
     "text": [
      "ERROR 4: Unable to open EPSG support file gcs.csv.  Try setting the GDAL_DATA environment variable to point to the directory containing EPSG csv files.\n"
     ]
    },
    {
     "name": "stdout",
     "output_type": "stream",
     "text": [
      "0_B08_20180116.tif\n"
     ]
    },
    {
     "name": "stderr",
     "output_type": "stream",
     "text": [
      "ERROR 4: Unable to open EPSG support file gcs.csv.  Try setting the GDAL_DATA environment variable to point to the directory containing EPSG csv files.\n"
     ]
    }
   ],
   "source": [
    "for band in bandList:\n",
    "    print(band[0:])\n",
    "    options = gdal.WarpOptions(cutlineDSName=shp_clip ,cropToCutline=True)\n",
    "    outBand = gdal.Warp(srcDSOrSrcDSTab= inputPath +\"/\"+band,\n",
    "                        destNameOrDestDS=outputPath+band[0:],\n",
    "                        options=options)\n",
    "    outBand= None"
   ]
  },
  {
   "cell_type": "code",
   "execution_count": null,
   "id": "51b62784",
   "metadata": {},
   "outputs": [],
   "source": []
  },
  {
   "cell_type": "code",
   "execution_count": null,
   "id": "307ae67d",
   "metadata": {},
   "outputs": [],
   "source": []
  }
 ],
 "metadata": {
  "kernelspec": {
   "display_name": "Python 3 (ipykernel)",
   "language": "python",
   "name": "python3"
  },
  "language_info": {
   "codemirror_mode": {
    "name": "ipython",
    "version": 3
   },
   "file_extension": ".py",
   "mimetype": "text/x-python",
   "name": "python",
   "nbconvert_exporter": "python",
   "pygments_lexer": "ipython3",
   "version": "3.9.6"
  }
 },
 "nbformat": 4,
 "nbformat_minor": 5
}
