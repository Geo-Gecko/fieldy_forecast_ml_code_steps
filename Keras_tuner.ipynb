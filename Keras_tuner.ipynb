{
 "cells": [
  {
   "cell_type": "markdown",
   "id": "f0b49d03",
   "metadata": {},
   "source": [
    "# Description\n",
    "This script is used to obtain the best parameters for training the model based on the available data and the options presented to the tuner."
   ]
  },
  {
   "cell_type": "code",
   "execution_count": 1,
   "id": "9999df67",
   "metadata": {},
   "outputs": [],
   "source": [
    "import csv\n",
    "import numpy as np\n",
    "import tensorflow as tf\n",
    "from tensorflow.keras.preprocessing.image import ImageDataGenerator\n",
    "from os import getcwd\n",
    "import pandas as pd"
   ]
  },
  {
   "cell_type": "code",
   "execution_count": 2,
   "id": "b29c361b",
   "metadata": {},
   "outputs": [],
   "source": [
    "from sklearn.model_selection import train_test_split\n",
    "from sklearn.metrics import confusion_matrix\n",
    "from sklearn.metrics import average_precision_score\n",
    "from sklearn.metrics import recall_score\n",
    "from sklearn.metrics import precision_score\n",
    "from sklearn.metrics import accuracy_score\n",
    "from sklearn.metrics import classification_report"
   ]
  },
  {
   "cell_type": "code",
   "execution_count": null,
   "id": "792cd883",
   "metadata": {},
   "outputs": [],
   "source": [
    "image = np.loadtxt('20210805_Cashews_Beni_training.csv', delimiter=',',skiprows=1)"
   ]
  },
  {
   "cell_type": "code",
   "execution_count": 3,
   "id": "0b1f0d09",
   "metadata": {},
   "outputs": [
    {
     "name": "stdout",
     "output_type": "stream",
     "text": [
      "(1223164, 209)\n"
     ]
    },
    {
     "data": {
      "text/html": [
       "<div>\n",
       "<style scoped>\n",
       "    .dataframe tbody tr th:only-of-type {\n",
       "        vertical-align: middle;\n",
       "    }\n",
       "\n",
       "    .dataframe tbody tr th {\n",
       "        vertical-align: top;\n",
       "    }\n",
       "\n",
       "    .dataframe thead th {\n",
       "        text-align: right;\n",
       "    }\n",
       "</style>\n",
       "<table border=\"1\" class=\"dataframe\">\n",
       "  <thead>\n",
       "    <tr style=\"text-align: right;\">\n",
       "      <th></th>\n",
       "      <th>fid</th>\n",
       "      <th>label</th>\n",
       "      <th>row_loc</th>\n",
       "      <th>col_loc</th>\n",
       "      <th>tile</th>\n",
       "      <th>20191115_B01</th>\n",
       "      <th>20191115_B02</th>\n",
       "      <th>20191115_B03</th>\n",
       "      <th>20191115_B04</th>\n",
       "      <th>20191115_B05</th>\n",
       "      <th>...</th>\n",
       "      <th>20200319_B03</th>\n",
       "      <th>20200319_B04</th>\n",
       "      <th>20200319_B05</th>\n",
       "      <th>20200319_B06</th>\n",
       "      <th>20200319_B07</th>\n",
       "      <th>20200319_B08</th>\n",
       "      <th>20200319_B8A</th>\n",
       "      <th>20200319_B09</th>\n",
       "      <th>20200319_B11</th>\n",
       "      <th>20200319_B12</th>\n",
       "    </tr>\n",
       "  </thead>\n",
       "  <tbody>\n",
       "    <tr>\n",
       "      <th>0</th>\n",
       "      <td>805</td>\n",
       "      <td>2</td>\n",
       "      <td>19</td>\n",
       "      <td>36</td>\n",
       "      <td>0</td>\n",
       "      <td>327</td>\n",
       "      <td>390</td>\n",
       "      <td>629</td>\n",
       "      <td>405</td>\n",
       "      <td>969</td>\n",
       "      <td>...</td>\n",
       "      <td>1314</td>\n",
       "      <td>1322</td>\n",
       "      <td>1820</td>\n",
       "      <td>2347</td>\n",
       "      <td>2605</td>\n",
       "      <td>2718</td>\n",
       "      <td>2718</td>\n",
       "      <td>3912</td>\n",
       "      <td>2697</td>\n",
       "      <td>1826</td>\n",
       "    </tr>\n",
       "    <tr>\n",
       "      <th>1</th>\n",
       "      <td>567</td>\n",
       "      <td>3</td>\n",
       "      <td>19</td>\n",
       "      <td>37</td>\n",
       "      <td>0</td>\n",
       "      <td>327</td>\n",
       "      <td>410</td>\n",
       "      <td>703</td>\n",
       "      <td>460</td>\n",
       "      <td>1000</td>\n",
       "      <td>...</td>\n",
       "      <td>1326</td>\n",
       "      <td>1360</td>\n",
       "      <td>1822</td>\n",
       "      <td>2480</td>\n",
       "      <td>2740</td>\n",
       "      <td>2802</td>\n",
       "      <td>2802</td>\n",
       "      <td>3912</td>\n",
       "      <td>2676</td>\n",
       "      <td>1801</td>\n",
       "    </tr>\n",
       "    <tr>\n",
       "      <th>2</th>\n",
       "      <td>567</td>\n",
       "      <td>3</td>\n",
       "      <td>19</td>\n",
       "      <td>38</td>\n",
       "      <td>0</td>\n",
       "      <td>327</td>\n",
       "      <td>407</td>\n",
       "      <td>658</td>\n",
       "      <td>407</td>\n",
       "      <td>1000</td>\n",
       "      <td>...</td>\n",
       "      <td>1314</td>\n",
       "      <td>1384</td>\n",
       "      <td>1822</td>\n",
       "      <td>2480</td>\n",
       "      <td>2740</td>\n",
       "      <td>2680</td>\n",
       "      <td>2680</td>\n",
       "      <td>3912</td>\n",
       "      <td>2676</td>\n",
       "      <td>1801</td>\n",
       "    </tr>\n",
       "    <tr>\n",
       "      <th>3</th>\n",
       "      <td>567</td>\n",
       "      <td>3</td>\n",
       "      <td>19</td>\n",
       "      <td>39</td>\n",
       "      <td>0</td>\n",
       "      <td>304</td>\n",
       "      <td>397</td>\n",
       "      <td>654</td>\n",
       "      <td>417</td>\n",
       "      <td>1028</td>\n",
       "      <td>...</td>\n",
       "      <td>1326</td>\n",
       "      <td>1312</td>\n",
       "      <td>1828</td>\n",
       "      <td>2420</td>\n",
       "      <td>2677</td>\n",
       "      <td>2796</td>\n",
       "      <td>2796</td>\n",
       "      <td>3949</td>\n",
       "      <td>2702</td>\n",
       "      <td>1852</td>\n",
       "    </tr>\n",
       "    <tr>\n",
       "      <th>4</th>\n",
       "      <td>567</td>\n",
       "      <td>3</td>\n",
       "      <td>19</td>\n",
       "      <td>40</td>\n",
       "      <td>0</td>\n",
       "      <td>304</td>\n",
       "      <td>404</td>\n",
       "      <td>646</td>\n",
       "      <td>442</td>\n",
       "      <td>1028</td>\n",
       "      <td>...</td>\n",
       "      <td>1294</td>\n",
       "      <td>1390</td>\n",
       "      <td>1828</td>\n",
       "      <td>2420</td>\n",
       "      <td>2677</td>\n",
       "      <td>2632</td>\n",
       "      <td>2632</td>\n",
       "      <td>3949</td>\n",
       "      <td>2702</td>\n",
       "      <td>1852</td>\n",
       "    </tr>\n",
       "  </tbody>\n",
       "</table>\n",
       "<p>5 rows × 209 columns</p>\n",
       "</div>"
      ],
      "text/plain": [
       "   fid  label  row_loc  col_loc  tile  20191115_B01  20191115_B02  \\\n",
       "0  805      2       19       36     0           327           390   \n",
       "1  567      3       19       37     0           327           410   \n",
       "2  567      3       19       38     0           327           407   \n",
       "3  567      3       19       39     0           304           397   \n",
       "4  567      3       19       40     0           304           404   \n",
       "\n",
       "   20191115_B03  20191115_B04  20191115_B05  ...  20200319_B03  20200319_B04  \\\n",
       "0           629           405           969  ...          1314          1322   \n",
       "1           703           460          1000  ...          1326          1360   \n",
       "2           658           407          1000  ...          1314          1384   \n",
       "3           654           417          1028  ...          1326          1312   \n",
       "4           646           442          1028  ...          1294          1390   \n",
       "\n",
       "   20200319_B05  20200319_B06  20200319_B07  20200319_B08  20200319_B8A  \\\n",
       "0          1820          2347          2605          2718          2718   \n",
       "1          1822          2480          2740          2802          2802   \n",
       "2          1822          2480          2740          2680          2680   \n",
       "3          1828          2420          2677          2796          2796   \n",
       "4          1828          2420          2677          2632          2632   \n",
       "\n",
       "   20200319_B09  20200319_B11  20200319_B12  \n",
       "0          3912          2697          1826  \n",
       "1          3912          2676          1801  \n",
       "2          3912          2676          1801  \n",
       "3          3949          2702          1852  \n",
       "4          3949          2702          1852  \n",
       "\n",
       "[5 rows x 209 columns]"
      ]
     },
     "execution_count": 3,
     "metadata": {},
     "output_type": "execute_result"
    }
   ],
   "source": [
    "df = pd.read_csv('20210805_Cashews_Beni_training.csv')\n",
    "Full_data = df\n",
    "print(df.shape)\n",
    "df.head()"
   ]
  },
  {
   "cell_type": "code",
   "execution_count": 4,
   "id": "68eed043",
   "metadata": {},
   "outputs": [
    {
     "name": "stdout",
     "output_type": "stream",
     "text": [
      "List of column names :  ['fid', 'label', 'row_loc', 'col_loc', 'tile', '20191115_B01', '20191115_B02', '20191115_B03', '20191115_B04', '20191115_B05', '20191115_B06', '20191115_B07', '20191115_B08', '20191115_B8A', '20191115_B09', '20191115_B11', '20191115_B12', '20191120_B01', '20191120_B02', '20191120_B03', '20191120_B04', '20191120_B05', '20191120_B06', '20191120_B07', '20191120_B08', '20191120_B8A', '20191120_B09', '20191120_B11', '20191120_B12', '20191130_B01', '20191130_B02', '20191130_B03', '20191130_B04', '20191130_B05', '20191130_B06', '20191130_B07', '20191130_B08', '20191130_B8A', '20191130_B09', '20191130_B11', '20191130_B12', '20191205_B01', '20191205_B02', '20191205_B03', '20191205_B04', '20191205_B05', '20191205_B06', '20191205_B07', '20191205_B08', '20191205_B8A', '20191205_B09', '20191205_B11', '20191205_B12', '20191210_B01', '20191210_B02', '20191210_B03', '20191210_B04', '20191210_B05', '20191210_B06', '20191210_B07', '20191210_B08', '20191210_B8A', '20191210_B09', '20191210_B11', '20191210_B12', '20191215_B01', '20191215_B02', '20191215_B03', '20191215_B04', '20191215_B05', '20191215_B06', '20191215_B07', '20191215_B08', '20191215_B8A', '20191215_B09', '20191215_B11', '20191215_B12', '20191220_B01', '20191220_B02', '20191220_B03', '20191220_B04', '20191220_B05', '20191220_B06', '20191220_B07', '20191220_B08', '20191220_B8A', '20191220_B09', '20191220_B11', '20191220_B12', '20191225_B01', '20191225_B02', '20191225_B03', '20191225_B04', '20191225_B05', '20191225_B06', '20191225_B07', '20191225_B08', '20191225_B8A', '20191225_B09', '20191225_B11', '20191225_B12', '20200124_B01', '20200124_B02', '20200124_B03', '20200124_B04', '20200124_B05', '20200124_B06', '20200124_B07', '20200124_B08', '20200124_B8A', '20200124_B09', '20200124_B11', '20200124_B12', '20200129_B01', '20200129_B02', '20200129_B03', '20200129_B04', '20200129_B05', '20200129_B06', '20200129_B07', '20200129_B08', '20200129_B8A', '20200129_B09', '20200129_B11', '20200129_B12', '20200208_B01', '20200208_B02', '20200208_B03', '20200208_B04', '20200208_B05', '20200208_B06', '20200208_B07', '20200208_B08', '20200208_B8A', '20200208_B09', '20200208_B11', '20200208_B12', '20200218_B01', '20200218_B02', '20200218_B03', '20200218_B04', '20200218_B05', '20200218_B06', '20200218_B07', '20200218_B08', '20200218_B8A', '20200218_B09', '20200218_B11', '20200218_B12', '20200223_B01', '20200223_B02', '20200223_B03', '20200223_B04', '20200223_B05', '20200223_B06', '20200223_B07', '20200223_B08', '20200223_B8A', '20200223_B09', '20200223_B11', '20200223_B12', '20200228_B01', '20200228_B02', '20200228_B03', '20200228_B04', '20200228_B05', '20200228_B06', '20200228_B07', '20200228_B08', '20200228_B8A', '20200228_B09', '20200228_B11', '20200228_B12', '20200304_B01', '20200304_B02', '20200304_B03', '20200304_B04', '20200304_B05', '20200304_B06', '20200304_B07', '20200304_B08', '20200304_B8A', '20200304_B09', '20200304_B11', '20200304_B12', '20200309_B01', '20200309_B02', '20200309_B03', '20200309_B04', '20200309_B05', '20200309_B06', '20200309_B07', '20200309_B08', '20200309_B8A', '20200309_B09', '20200309_B11', '20200309_B12', '20200319_B01', '20200319_B02', '20200319_B03', '20200319_B04', '20200319_B05', '20200319_B06', '20200319_B07', '20200319_B08', '20200319_B8A', '20200319_B09', '20200319_B11', '20200319_B12']\n"
     ]
    }
   ],
   "source": [
    "list_of_column_names = list(df.columns)\n",
    "  \n",
    "# displaying the list of column names\n",
    "print('List of column names : ', \n",
    "      list_of_column_names)"
   ]
  },
  {
   "cell_type": "code",
   "execution_count": 4,
   "id": "4b64078b",
   "metadata": {},
   "outputs": [],
   "source": [
    "fids = df['fid'].unique"
   ]
  },
  {
   "cell_type": "code",
   "execution_count": 5,
   "id": "156c95b6",
   "metadata": {},
   "outputs": [
    {
     "name": "stdout",
     "output_type": "stream",
     "text": [
      "15200\n"
     ]
    }
   ],
   "source": [
    "max_value = df.to_numpy().max()\n",
    "print(max_value)"
   ]
  },
  {
   "cell_type": "code",
   "execution_count": 6,
   "id": "def04759",
   "metadata": {},
   "outputs": [],
   "source": [
    "df = df.sample(frac = 1)"
   ]
  },
  {
   "cell_type": "code",
   "execution_count": 7,
   "id": "c4d931f4",
   "metadata": {},
   "outputs": [
    {
     "name": "stdout",
     "output_type": "stream",
     "text": [
      "Train data shape: (1016843, 209)\n",
      "Validation data shape: (95284, 209)\n",
      "Test data shape: (110975, 209)\n"
     ]
    }
   ],
   "source": [
    "train = df[(df['fid'] > 1) & (df['fid'] <= 1295)]\n",
    "print (\"Train data shape:\",train.shape)\n",
    "validation= df[(df['fid'] > 1295) & (df['fid'] <= 1573)]\n",
    "print (\"Validation data shape:\",validation.shape)\n",
    "test = df[df['fid'] > 1573]\n",
    "print (\"Test data shape:\",test.shape)"
   ]
  },
  {
   "cell_type": "code",
   "execution_count": 8,
   "id": "426cca9b",
   "metadata": {},
   "outputs": [
    {
     "name": "stdout",
     "output_type": "stream",
     "text": [
      "15200\n"
     ]
    }
   ],
   "source": [
    "print(max_value)"
   ]
  },
  {
   "cell_type": "code",
   "execution_count": 9,
   "id": "9c1f2147",
   "metadata": {},
   "outputs": [
    {
     "data": {
      "text/html": [
       "<div>\n",
       "<style scoped>\n",
       "    .dataframe tbody tr th:only-of-type {\n",
       "        vertical-align: middle;\n",
       "    }\n",
       "\n",
       "    .dataframe tbody tr th {\n",
       "        vertical-align: top;\n",
       "    }\n",
       "\n",
       "    .dataframe thead th {\n",
       "        text-align: right;\n",
       "    }\n",
       "</style>\n",
       "<table border=\"1\" class=\"dataframe\">\n",
       "  <thead>\n",
       "    <tr style=\"text-align: right;\">\n",
       "      <th></th>\n",
       "      <th>fid</th>\n",
       "      <th>label</th>\n",
       "      <th>row_loc</th>\n",
       "      <th>col_loc</th>\n",
       "      <th>tile</th>\n",
       "      <th>20191115_B01</th>\n",
       "      <th>20191115_B02</th>\n",
       "      <th>20191115_B03</th>\n",
       "      <th>20191115_B04</th>\n",
       "      <th>20191115_B05</th>\n",
       "      <th>...</th>\n",
       "      <th>20200319_B03</th>\n",
       "      <th>20200319_B04</th>\n",
       "      <th>20200319_B05</th>\n",
       "      <th>20200319_B06</th>\n",
       "      <th>20200319_B07</th>\n",
       "      <th>20200319_B08</th>\n",
       "      <th>20200319_B8A</th>\n",
       "      <th>20200319_B09</th>\n",
       "      <th>20200319_B11</th>\n",
       "      <th>20200319_B12</th>\n",
       "    </tr>\n",
       "  </thead>\n",
       "  <tbody>\n",
       "    <tr>\n",
       "      <th>901201</th>\n",
       "      <td>847</td>\n",
       "      <td>5</td>\n",
       "      <td>859</td>\n",
       "      <td>598</td>\n",
       "      <td>0</td>\n",
       "      <td>335</td>\n",
       "      <td>460</td>\n",
       "      <td>692</td>\n",
       "      <td>614</td>\n",
       "      <td>1150</td>\n",
       "      <td>...</td>\n",
       "      <td>1510</td>\n",
       "      <td>1630</td>\n",
       "      <td>2021</td>\n",
       "      <td>2355</td>\n",
       "      <td>2549</td>\n",
       "      <td>2548</td>\n",
       "      <td>2548</td>\n",
       "      <td>4697</td>\n",
       "      <td>3079</td>\n",
       "      <td>2327</td>\n",
       "    </tr>\n",
       "    <tr>\n",
       "      <th>377669</th>\n",
       "      <td>491</td>\n",
       "      <td>1</td>\n",
       "      <td>371</td>\n",
       "      <td>969</td>\n",
       "      <td>0</td>\n",
       "      <td>264</td>\n",
       "      <td>329</td>\n",
       "      <td>670</td>\n",
       "      <td>356</td>\n",
       "      <td>1108</td>\n",
       "      <td>...</td>\n",
       "      <td>1426</td>\n",
       "      <td>1486</td>\n",
       "      <td>1981</td>\n",
       "      <td>2585</td>\n",
       "      <td>2814</td>\n",
       "      <td>2790</td>\n",
       "      <td>2790</td>\n",
       "      <td>4410</td>\n",
       "      <td>2982</td>\n",
       "      <td>2000</td>\n",
       "    </tr>\n",
       "    <tr>\n",
       "      <th>851262</th>\n",
       "      <td>1113</td>\n",
       "      <td>3</td>\n",
       "      <td>813</td>\n",
       "      <td>63</td>\n",
       "      <td>0</td>\n",
       "      <td>260</td>\n",
       "      <td>322</td>\n",
       "      <td>483</td>\n",
       "      <td>296</td>\n",
       "      <td>750</td>\n",
       "      <td>...</td>\n",
       "      <td>1238</td>\n",
       "      <td>1302</td>\n",
       "      <td>1683</td>\n",
       "      <td>2268</td>\n",
       "      <td>2500</td>\n",
       "      <td>2418</td>\n",
       "      <td>2418</td>\n",
       "      <td>4224</td>\n",
       "      <td>2544</td>\n",
       "      <td>1737</td>\n",
       "    </tr>\n",
       "    <tr>\n",
       "      <th>671451</th>\n",
       "      <td>847</td>\n",
       "      <td>5</td>\n",
       "      <td>645</td>\n",
       "      <td>684</td>\n",
       "      <td>0</td>\n",
       "      <td>330</td>\n",
       "      <td>458</td>\n",
       "      <td>727</td>\n",
       "      <td>596</td>\n",
       "      <td>1181</td>\n",
       "      <td>...</td>\n",
       "      <td>1582</td>\n",
       "      <td>1616</td>\n",
       "      <td>2099</td>\n",
       "      <td>2642</td>\n",
       "      <td>2842</td>\n",
       "      <td>3024</td>\n",
       "      <td>3024</td>\n",
       "      <td>4711</td>\n",
       "      <td>3079</td>\n",
       "      <td>2269</td>\n",
       "    </tr>\n",
       "    <tr>\n",
       "      <th>718894</th>\n",
       "      <td>847</td>\n",
       "      <td>5</td>\n",
       "      <td>689</td>\n",
       "      <td>871</td>\n",
       "      <td>0</td>\n",
       "      <td>365</td>\n",
       "      <td>398</td>\n",
       "      <td>640</td>\n",
       "      <td>490</td>\n",
       "      <td>953</td>\n",
       "      <td>...</td>\n",
       "      <td>1334</td>\n",
       "      <td>1358</td>\n",
       "      <td>1895</td>\n",
       "      <td>2517</td>\n",
       "      <td>2780</td>\n",
       "      <td>2780</td>\n",
       "      <td>2780</td>\n",
       "      <td>4469</td>\n",
       "      <td>2827</td>\n",
       "      <td>1930</td>\n",
       "    </tr>\n",
       "  </tbody>\n",
       "</table>\n",
       "<p>5 rows × 209 columns</p>\n",
       "</div>"
      ],
      "text/plain": [
       "         fid  label  row_loc  col_loc  tile  20191115_B01  20191115_B02  \\\n",
       "901201   847      5      859      598     0           335           460   \n",
       "377669   491      1      371      969     0           264           329   \n",
       "851262  1113      3      813       63     0           260           322   \n",
       "671451   847      5      645      684     0           330           458   \n",
       "718894   847      5      689      871     0           365           398   \n",
       "\n",
       "        20191115_B03  20191115_B04  20191115_B05  ...  20200319_B03  \\\n",
       "901201           692           614          1150  ...          1510   \n",
       "377669           670           356          1108  ...          1426   \n",
       "851262           483           296           750  ...          1238   \n",
       "671451           727           596          1181  ...          1582   \n",
       "718894           640           490           953  ...          1334   \n",
       "\n",
       "        20200319_B04  20200319_B05  20200319_B06  20200319_B07  20200319_B08  \\\n",
       "901201          1630          2021          2355          2549          2548   \n",
       "377669          1486          1981          2585          2814          2790   \n",
       "851262          1302          1683          2268          2500          2418   \n",
       "671451          1616          2099          2642          2842          3024   \n",
       "718894          1358          1895          2517          2780          2780   \n",
       "\n",
       "        20200319_B8A  20200319_B09  20200319_B11  20200319_B12  \n",
       "901201          2548          4697          3079          2327  \n",
       "377669          2790          4410          2982          2000  \n",
       "851262          2418          4224          2544          1737  \n",
       "671451          3024          4711          3079          2269  \n",
       "718894          2780          4469          2827          1930  \n",
       "\n",
       "[5 rows x 209 columns]"
      ]
     },
     "execution_count": 9,
     "metadata": {},
     "output_type": "execute_result"
    }
   ],
   "source": [
    "train.head()"
   ]
  },
  {
   "cell_type": "code",
   "execution_count": 10,
   "id": "3ecaab4a",
   "metadata": {},
   "outputs": [],
   "source": [
    "train_npy = train.to_numpy()\n",
    "test_npy = test.to_numpy()\n",
    "val_npy = validation.to_numpy()"
   ]
  },
  {
   "cell_type": "code",
   "execution_count": 11,
   "id": "ffb01769",
   "metadata": {},
   "outputs": [
    {
     "name": "stdout",
     "output_type": "stream",
     "text": [
      "The initial training labels are  [1 2 3 4 5 6]\n",
      "The edited training labels are  [0 1 2 3 4 5]\n",
      "The initial testing labels are  [1 2 3 4 5 6]\n",
      "The edited testing labels are  [0 1 2 3 4 5]\n",
      "The initial validation labels are  [1 2 3 4 5 6]\n",
      "The edited validation labels are  [0 1 2 3 4 5]\n"
     ]
    }
   ],
   "source": [
    "#data labels\n",
    "yTrain = train_npy[:,1].astype(int)\n",
    "print(\"The initial training labels are \",np.unique(yTrain))\n",
    "yTrain = yTrain - 1\n",
    "print(\"The edited training labels are \",np.unique(yTrain))\n",
    "yTest = test_npy[:,1].astype(int)\n",
    "print(\"The initial testing labels are \",np.unique(yTest))\n",
    "yTest = yTest - 1\n",
    "print(\"The edited testing labels are \",np.unique(yTest))\n",
    "yVal = val_npy[:,1].astype(int)\n",
    "print(\"The initial validation labels are \",np.unique(yVal))\n",
    "yVal = yVal - 1\n",
    "print(\"The edited validation labels are \",np.unique(yVal))"
   ]
  },
  {
   "cell_type": "code",
   "execution_count": 12,
   "id": "3a9bd64b",
   "metadata": {},
   "outputs": [
    {
     "name": "stdout",
     "output_type": "stream",
     "text": [
      "xTrain shape:  (1016843, 204)\n",
      "xTest shape:  (110975, 204)\n",
      "xVal shape:  (95284, 204)\n",
      "yTest shape:  (110975,)\n",
      "yTrain shape:  (1016843,)\n",
      "yVal shape:  (95284,)\n",
      "Maximum_value:  15200\n"
     ]
    }
   ],
   "source": [
    "#imagedata\n",
    "xTrain = train_npy[:,5:]\n",
    "print(\"xTrain shape: \",xTrain.shape)\n",
    "xTest = test_npy[:,5:]\n",
    "print(\"xTest shape: \",xTest.shape)\n",
    "xVal = val_npy[:,5:]\n",
    "print(\"xVal shape: \",xVal.shape)\n",
    "print(\"yTest shape: \",yTest.shape)\n",
    "print(\"yTrain shape: \",yTrain.shape)\n",
    "print(\"yVal shape: \",yVal.shape)\n",
    "print(\"Maximum_value: \",max_value)"
   ]
  },
  {
   "cell_type": "code",
   "execution_count": 13,
   "id": "e214fd82",
   "metadata": {},
   "outputs": [
    {
     "name": "stdout",
     "output_type": "stream",
     "text": [
      "xTrain: (1016843, 17, 12)\n",
      "xTest: (110975, 17, 12)\n"
     ]
    }
   ],
   "source": [
    "# Normalise the data\n",
    "xTrain = xTrain / max_value\n",
    "xTest = xTest / max_value\n",
    "\n",
    "# Reshape the data\n",
    "xTrain = np.reshape(xTrain,(1016843,17,12))\n",
    "xTest = np.reshape(xTest,(110975,17,12))\n",
    "# xTrain = np.expand_dims(xTrain,axis =-1)\n",
    "# xTest = np.expand_dims(xTest,axis =-1)\n",
    "\n",
    "\n",
    "# Print the shape of reshaped data\n",
    "print(\"xTrain:\",xTrain.shape)\n",
    "print(\"xTest:\",xTest.shape)"
   ]
  },
  {
   "cell_type": "code",
   "execution_count": 14,
   "id": "9d5cc748",
   "metadata": {},
   "outputs": [],
   "source": [
    "import keras_tuner as kt\n",
    "from tensorflow import keras\n",
    "from keras_tuner import RandomSearch"
   ]
  },
  {
   "cell_type": "code",
   "execution_count": 28,
   "id": "80927a76",
   "metadata": {},
   "outputs": [],
   "source": [
    "from keras.models import Sequential\n",
    "from keras.layers import Dense, Conv1D, Flatten, MaxPooling1D"
   ]
  },
  {
   "cell_type": "code",
   "execution_count": 63,
   "id": "1bb76f4a",
   "metadata": {},
   "outputs": [],
   "source": [
    "#Keras tuner\n",
    "def build_model(hp):\n",
    "    # create model object\n",
    "    model = keras.Sequential([\n",
    "    #adding first convolutional layer    \n",
    "    keras.layers.Conv1D(\n",
    "        #adding filter \n",
    "        filters=hp.Int('conv_1_filter', min_value=32, max_value=128, step=16),\n",
    "        # adding filter size or kernel size\n",
    "        kernel_size=hp.Choice('conv_1_kernel', values = [2,7]),\n",
    "        #activation function\n",
    "        activation='relu',\n",
    "        input_shape=(17,12)),\n",
    "#     adding second convolutional layer \n",
    "    keras.layers.Conv1D(\n",
    "        #adding filter \n",
    "        filters=hp.Int('conv_2_filter', min_value=32, max_value=64, step=16),\n",
    "        #adding filter size or kernel size\n",
    "        kernel_size=hp.Choice('conv_2_kernel', values = [2,7]),\n",
    "        #activation function\n",
    "        activation='relu'\n",
    "    ),\n",
    "        # adding dense layer \n",
    "    keras.layers.Dense(\n",
    "        units=hp.Int('dense_1_units', min_value=32, max_value=128, step=16),\n",
    "        activation='relu'\n",
    "    ),\n",
    "        \n",
    "    #adding a maxpool layer\n",
    "    keras.layers.MaxPooling1D(),    \n",
    "    # adding flatten layer    \n",
    "    keras.layers.Flatten(),\n",
    "       \n",
    "    # output layer    \n",
    "    keras.layers.Dense(6, activation='softmax')\n",
    "    ])\n",
    "    #compilation of model\n",
    "    model.compile(optimizer=keras.optimizers.Adam(hp.Choice('learning_rate', values=[1e-2, 1e-3])),\n",
    "              loss='sparse_categorical_crossentropy',\n",
    "              metrics=['accuracy'])\n",
    "    return model\n",
    "        "
   ]
  },
  {
   "cell_type": "code",
   "execution_count": 64,
   "id": "f5b4009c",
   "metadata": {},
   "outputs": [
    {
     "name": "stdout",
     "output_type": "stream",
     "text": [
      "Trial 1 Complete [00h 05m 24s]\n",
      "val_accuracy: 0.09613867849111557\n",
      "\n",
      "Best val_accuracy So Far: 0.09613867849111557\n",
      "Total elapsed time: 00h 05m 24s\n",
      "\n",
      "Search: Running Trial #2\n",
      "\n",
      "Hyperparameter    |Value             |Best Value So Far \n",
      "conv_1_filter     |48                |80                \n",
      "conv_1_kernel     |2                 |2                 \n",
      "conv_2_filter     |48                |48                \n",
      "conv_2_kernel     |2                 |2                 \n",
      "dense_1_units     |80                |48                \n",
      "learning_rate     |0.01              |0.01              \n",
      "\n",
      "Epoch 1/4\n",
      "23127/23127 [==============================] - 80s 3ms/step - loss: 1.2785 - accuracy: 0.5047 - val_loss: 2.2063 - val_accuracy: 0.0961\n",
      "Epoch 2/4\n",
      "19320/23127 [========================>.....] - ETA: 11s - loss: 1.2775 - accuracy: 0.5048"
     ]
    },
    {
     "ename": "KeyboardInterrupt",
     "evalue": "",
     "output_type": "error",
     "traceback": [
      "\u001b[0;31m---------------------------------------------------------------------------\u001b[0m",
      "\u001b[0;31mKeyboardInterrupt\u001b[0m                         Traceback (most recent call last)",
      "\u001b[0;32m<ipython-input-64-a44fd70d633d>\u001b[0m in \u001b[0;36m<module>\u001b[0;34m\u001b[0m\n\u001b[1;32m      5\u001b[0m                     project_name = 'Cashew prediction using sentinel 2 images')\n\u001b[1;32m      6\u001b[0m \u001b[0;31m# search best parameter\u001b[0m\u001b[0;34m\u001b[0m\u001b[0;34m\u001b[0m\u001b[0;34m\u001b[0m\u001b[0m\n\u001b[0;32m----> 7\u001b[0;31m \u001b[0mtuner\u001b[0m\u001b[0;34m.\u001b[0m\u001b[0msearch\u001b[0m\u001b[0;34m(\u001b[0m\u001b[0mxTrain\u001b[0m\u001b[0;34m,\u001b[0m\u001b[0myTrain\u001b[0m\u001b[0;34m,\u001b[0m\u001b[0mepochs\u001b[0m\u001b[0;34m=\u001b[0m \u001b[0;36m4\u001b[0m\u001b[0;34m,\u001b[0m\u001b[0mvalidation_data\u001b[0m\u001b[0;34m=\u001b[0m\u001b[0;34m(\u001b[0m\u001b[0mxTest\u001b[0m\u001b[0;34m,\u001b[0m\u001b[0myTest\u001b[0m\u001b[0;34m)\u001b[0m\u001b[0;34m)\u001b[0m\u001b[0;34m\u001b[0m\u001b[0;34m\u001b[0m\u001b[0m\n\u001b[0m",
      "\u001b[0;32m/home/Programs/miniconda3/envs/myenv/lib/python3.6/site-packages/keras_tuner/engine/base_tuner.py\u001b[0m in \u001b[0;36msearch\u001b[0;34m(self, *fit_args, **fit_kwargs)\u001b[0m\n\u001b[1;32m    142\u001b[0m \u001b[0;34m\u001b[0m\u001b[0m\n\u001b[1;32m    143\u001b[0m             \u001b[0mself\u001b[0m\u001b[0;34m.\u001b[0m\u001b[0mon_trial_begin\u001b[0m\u001b[0;34m(\u001b[0m\u001b[0mtrial\u001b[0m\u001b[0;34m)\u001b[0m\u001b[0;34m\u001b[0m\u001b[0;34m\u001b[0m\u001b[0m\n\u001b[0;32m--> 144\u001b[0;31m             \u001b[0mself\u001b[0m\u001b[0;34m.\u001b[0m\u001b[0mrun_trial\u001b[0m\u001b[0;34m(\u001b[0m\u001b[0mtrial\u001b[0m\u001b[0;34m,\u001b[0m \u001b[0;34m*\u001b[0m\u001b[0mfit_args\u001b[0m\u001b[0;34m,\u001b[0m \u001b[0;34m**\u001b[0m\u001b[0mfit_kwargs\u001b[0m\u001b[0;34m)\u001b[0m\u001b[0;34m\u001b[0m\u001b[0;34m\u001b[0m\u001b[0m\n\u001b[0m\u001b[1;32m    145\u001b[0m             \u001b[0mself\u001b[0m\u001b[0;34m.\u001b[0m\u001b[0mon_trial_end\u001b[0m\u001b[0;34m(\u001b[0m\u001b[0mtrial\u001b[0m\u001b[0;34m)\u001b[0m\u001b[0;34m\u001b[0m\u001b[0;34m\u001b[0m\u001b[0m\n\u001b[1;32m    146\u001b[0m         \u001b[0mself\u001b[0m\u001b[0;34m.\u001b[0m\u001b[0mon_search_end\u001b[0m\u001b[0;34m(\u001b[0m\u001b[0;34m)\u001b[0m\u001b[0;34m\u001b[0m\u001b[0;34m\u001b[0m\u001b[0m\n",
      "\u001b[0;32m/home/Programs/miniconda3/envs/myenv/lib/python3.6/site-packages/keras_tuner/engine/multi_execution_tuner.py\u001b[0m in \u001b[0;36mrun_trial\u001b[0;34m(self, trial, *fit_args, **fit_kwargs)\u001b[0m\n\u001b[1;32m     88\u001b[0m             \u001b[0mcopied_fit_kwargs\u001b[0m\u001b[0;34m[\u001b[0m\u001b[0;34m\"callbacks\"\u001b[0m\u001b[0;34m]\u001b[0m \u001b[0;34m=\u001b[0m \u001b[0mcallbacks\u001b[0m\u001b[0;34m\u001b[0m\u001b[0;34m\u001b[0m\u001b[0m\n\u001b[1;32m     89\u001b[0m \u001b[0;34m\u001b[0m\u001b[0m\n\u001b[0;32m---> 90\u001b[0;31m             \u001b[0mhistory\u001b[0m \u001b[0;34m=\u001b[0m \u001b[0mself\u001b[0m\u001b[0;34m.\u001b[0m\u001b[0m_build_and_fit_model\u001b[0m\u001b[0;34m(\u001b[0m\u001b[0mtrial\u001b[0m\u001b[0;34m,\u001b[0m \u001b[0mfit_args\u001b[0m\u001b[0;34m,\u001b[0m \u001b[0mcopied_fit_kwargs\u001b[0m\u001b[0;34m)\u001b[0m\u001b[0;34m\u001b[0m\u001b[0;34m\u001b[0m\u001b[0m\n\u001b[0m\u001b[1;32m     91\u001b[0m             \u001b[0;32mfor\u001b[0m \u001b[0mmetric\u001b[0m\u001b[0;34m,\u001b[0m \u001b[0mepoch_values\u001b[0m \u001b[0;32min\u001b[0m \u001b[0mhistory\u001b[0m\u001b[0;34m.\u001b[0m\u001b[0mhistory\u001b[0m\u001b[0;34m.\u001b[0m\u001b[0mitems\u001b[0m\u001b[0;34m(\u001b[0m\u001b[0;34m)\u001b[0m\u001b[0;34m:\u001b[0m\u001b[0;34m\u001b[0m\u001b[0;34m\u001b[0m\u001b[0m\n\u001b[1;32m     92\u001b[0m                 \u001b[0;32mif\u001b[0m \u001b[0mself\u001b[0m\u001b[0;34m.\u001b[0m\u001b[0moracle\u001b[0m\u001b[0;34m.\u001b[0m\u001b[0mobjective\u001b[0m\u001b[0;34m.\u001b[0m\u001b[0mdirection\u001b[0m \u001b[0;34m==\u001b[0m \u001b[0;34m\"min\"\u001b[0m\u001b[0;34m:\u001b[0m\u001b[0;34m\u001b[0m\u001b[0;34m\u001b[0m\u001b[0m\n",
      "\u001b[0;32m/home/Programs/miniconda3/envs/myenv/lib/python3.6/site-packages/keras_tuner/engine/tuner.py\u001b[0m in \u001b[0;36m_build_and_fit_model\u001b[0;34m(self, trial, fit_args, fit_kwargs)\u001b[0m\n\u001b[1;32m    145\u001b[0m         \"\"\"\n\u001b[1;32m    146\u001b[0m         \u001b[0mmodel\u001b[0m \u001b[0;34m=\u001b[0m \u001b[0mself\u001b[0m\u001b[0;34m.\u001b[0m\u001b[0mhypermodel\u001b[0m\u001b[0;34m.\u001b[0m\u001b[0mbuild\u001b[0m\u001b[0;34m(\u001b[0m\u001b[0mtrial\u001b[0m\u001b[0;34m.\u001b[0m\u001b[0mhyperparameters\u001b[0m\u001b[0;34m)\u001b[0m\u001b[0;34m\u001b[0m\u001b[0;34m\u001b[0m\u001b[0m\n\u001b[0;32m--> 147\u001b[0;31m         \u001b[0;32mreturn\u001b[0m \u001b[0mmodel\u001b[0m\u001b[0;34m.\u001b[0m\u001b[0mfit\u001b[0m\u001b[0;34m(\u001b[0m\u001b[0;34m*\u001b[0m\u001b[0mfit_args\u001b[0m\u001b[0;34m,\u001b[0m \u001b[0;34m**\u001b[0m\u001b[0mfit_kwargs\u001b[0m\u001b[0;34m)\u001b[0m\u001b[0;34m\u001b[0m\u001b[0;34m\u001b[0m\u001b[0m\n\u001b[0m\u001b[1;32m    148\u001b[0m \u001b[0;34m\u001b[0m\u001b[0m\n\u001b[1;32m    149\u001b[0m     \u001b[0;32mdef\u001b[0m \u001b[0mrun_trial\u001b[0m\u001b[0;34m(\u001b[0m\u001b[0mself\u001b[0m\u001b[0;34m,\u001b[0m \u001b[0mtrial\u001b[0m\u001b[0;34m,\u001b[0m \u001b[0;34m*\u001b[0m\u001b[0mfit_args\u001b[0m\u001b[0;34m,\u001b[0m \u001b[0;34m**\u001b[0m\u001b[0mfit_kwargs\u001b[0m\u001b[0;34m)\u001b[0m\u001b[0;34m:\u001b[0m\u001b[0;34m\u001b[0m\u001b[0;34m\u001b[0m\u001b[0m\n",
      "\u001b[0;32m/home/Programs/miniconda3/envs/myenv/lib/python3.6/site-packages/tensorflow/python/keras/engine/training.py\u001b[0m in \u001b[0;36mfit\u001b[0;34m(self, x, y, batch_size, epochs, verbose, callbacks, validation_split, validation_data, shuffle, class_weight, sample_weight, initial_epoch, steps_per_epoch, validation_steps, validation_batch_size, validation_freq, max_queue_size, workers, use_multiprocessing)\u001b[0m\n\u001b[1;32m   1181\u001b[0m                 _r=1):\n\u001b[1;32m   1182\u001b[0m               \u001b[0mcallbacks\u001b[0m\u001b[0;34m.\u001b[0m\u001b[0mon_train_batch_begin\u001b[0m\u001b[0;34m(\u001b[0m\u001b[0mstep\u001b[0m\u001b[0;34m)\u001b[0m\u001b[0;34m\u001b[0m\u001b[0;34m\u001b[0m\u001b[0m\n\u001b[0;32m-> 1183\u001b[0;31m               \u001b[0mtmp_logs\u001b[0m \u001b[0;34m=\u001b[0m \u001b[0mself\u001b[0m\u001b[0;34m.\u001b[0m\u001b[0mtrain_function\u001b[0m\u001b[0;34m(\u001b[0m\u001b[0miterator\u001b[0m\u001b[0;34m)\u001b[0m\u001b[0;34m\u001b[0m\u001b[0;34m\u001b[0m\u001b[0m\n\u001b[0m\u001b[1;32m   1184\u001b[0m               \u001b[0;32mif\u001b[0m \u001b[0mdata_handler\u001b[0m\u001b[0;34m.\u001b[0m\u001b[0mshould_sync\u001b[0m\u001b[0;34m:\u001b[0m\u001b[0;34m\u001b[0m\u001b[0;34m\u001b[0m\u001b[0m\n\u001b[1;32m   1185\u001b[0m                 \u001b[0mcontext\u001b[0m\u001b[0;34m.\u001b[0m\u001b[0masync_wait\u001b[0m\u001b[0;34m(\u001b[0m\u001b[0;34m)\u001b[0m\u001b[0;34m\u001b[0m\u001b[0;34m\u001b[0m\u001b[0m\n",
      "\u001b[0;32m/home/Programs/miniconda3/envs/myenv/lib/python3.6/site-packages/tensorflow/python/eager/def_function.py\u001b[0m in \u001b[0;36m__call__\u001b[0;34m(self, *args, **kwds)\u001b[0m\n\u001b[1;32m    887\u001b[0m \u001b[0;34m\u001b[0m\u001b[0m\n\u001b[1;32m    888\u001b[0m       \u001b[0;32mwith\u001b[0m \u001b[0mOptionalXlaContext\u001b[0m\u001b[0;34m(\u001b[0m\u001b[0mself\u001b[0m\u001b[0;34m.\u001b[0m\u001b[0m_jit_compile\u001b[0m\u001b[0;34m)\u001b[0m\u001b[0;34m:\u001b[0m\u001b[0;34m\u001b[0m\u001b[0;34m\u001b[0m\u001b[0m\n\u001b[0;32m--> 889\u001b[0;31m         \u001b[0mresult\u001b[0m \u001b[0;34m=\u001b[0m \u001b[0mself\u001b[0m\u001b[0;34m.\u001b[0m\u001b[0m_call\u001b[0m\u001b[0;34m(\u001b[0m\u001b[0;34m*\u001b[0m\u001b[0margs\u001b[0m\u001b[0;34m,\u001b[0m \u001b[0;34m**\u001b[0m\u001b[0mkwds\u001b[0m\u001b[0;34m)\u001b[0m\u001b[0;34m\u001b[0m\u001b[0;34m\u001b[0m\u001b[0m\n\u001b[0m\u001b[1;32m    890\u001b[0m \u001b[0;34m\u001b[0m\u001b[0m\n\u001b[1;32m    891\u001b[0m       \u001b[0mnew_tracing_count\u001b[0m \u001b[0;34m=\u001b[0m \u001b[0mself\u001b[0m\u001b[0;34m.\u001b[0m\u001b[0mexperimental_get_tracing_count\u001b[0m\u001b[0;34m(\u001b[0m\u001b[0;34m)\u001b[0m\u001b[0;34m\u001b[0m\u001b[0;34m\u001b[0m\u001b[0m\n",
      "\u001b[0;32m/home/Programs/miniconda3/envs/myenv/lib/python3.6/site-packages/tensorflow/python/eager/def_function.py\u001b[0m in \u001b[0;36m_call\u001b[0;34m(self, *args, **kwds)\u001b[0m\n\u001b[1;32m    915\u001b[0m       \u001b[0;31m# In this case we have created variables on the first call, so we run the\u001b[0m\u001b[0;34m\u001b[0m\u001b[0;34m\u001b[0m\u001b[0;34m\u001b[0m\u001b[0m\n\u001b[1;32m    916\u001b[0m       \u001b[0;31m# defunned version which is guaranteed to never create variables.\u001b[0m\u001b[0;34m\u001b[0m\u001b[0;34m\u001b[0m\u001b[0;34m\u001b[0m\u001b[0m\n\u001b[0;32m--> 917\u001b[0;31m       \u001b[0;32mreturn\u001b[0m \u001b[0mself\u001b[0m\u001b[0;34m.\u001b[0m\u001b[0m_stateless_fn\u001b[0m\u001b[0;34m(\u001b[0m\u001b[0;34m*\u001b[0m\u001b[0margs\u001b[0m\u001b[0;34m,\u001b[0m \u001b[0;34m**\u001b[0m\u001b[0mkwds\u001b[0m\u001b[0;34m)\u001b[0m  \u001b[0;31m# pylint: disable=not-callable\u001b[0m\u001b[0;34m\u001b[0m\u001b[0;34m\u001b[0m\u001b[0m\n\u001b[0m\u001b[1;32m    918\u001b[0m     \u001b[0;32melif\u001b[0m \u001b[0mself\u001b[0m\u001b[0;34m.\u001b[0m\u001b[0m_stateful_fn\u001b[0m \u001b[0;32mis\u001b[0m \u001b[0;32mnot\u001b[0m \u001b[0;32mNone\u001b[0m\u001b[0;34m:\u001b[0m\u001b[0;34m\u001b[0m\u001b[0;34m\u001b[0m\u001b[0m\n\u001b[1;32m    919\u001b[0m       \u001b[0;31m# Release the lock early so that multiple threads can perform the call\u001b[0m\u001b[0;34m\u001b[0m\u001b[0;34m\u001b[0m\u001b[0;34m\u001b[0m\u001b[0m\n",
      "\u001b[0;32m/home/Programs/miniconda3/envs/myenv/lib/python3.6/site-packages/tensorflow/python/eager/function.py\u001b[0m in \u001b[0;36m__call__\u001b[0;34m(self, *args, **kwargs)\u001b[0m\n\u001b[1;32m   3022\u001b[0m        filtered_flat_args) = self._maybe_define_function(args, kwargs)\n\u001b[1;32m   3023\u001b[0m     return graph_function._call_flat(\n\u001b[0;32m-> 3024\u001b[0;31m         filtered_flat_args, captured_inputs=graph_function.captured_inputs)  # pylint: disable=protected-access\n\u001b[0m\u001b[1;32m   3025\u001b[0m \u001b[0;34m\u001b[0m\u001b[0m\n\u001b[1;32m   3026\u001b[0m   \u001b[0;34m@\u001b[0m\u001b[0mproperty\u001b[0m\u001b[0;34m\u001b[0m\u001b[0;34m\u001b[0m\u001b[0m\n",
      "\u001b[0;32m/home/Programs/miniconda3/envs/myenv/lib/python3.6/site-packages/tensorflow/python/eager/function.py\u001b[0m in \u001b[0;36m_call_flat\u001b[0;34m(self, args, captured_inputs, cancellation_manager)\u001b[0m\n\u001b[1;32m   1959\u001b[0m       \u001b[0;31m# No tape is watching; skip to running the function.\u001b[0m\u001b[0;34m\u001b[0m\u001b[0;34m\u001b[0m\u001b[0;34m\u001b[0m\u001b[0m\n\u001b[1;32m   1960\u001b[0m       return self._build_call_outputs(self._inference_function.call(\n\u001b[0;32m-> 1961\u001b[0;31m           ctx, args, cancellation_manager=cancellation_manager))\n\u001b[0m\u001b[1;32m   1962\u001b[0m     forward_backward = self._select_forward_and_backward_functions(\n\u001b[1;32m   1963\u001b[0m         \u001b[0margs\u001b[0m\u001b[0;34m,\u001b[0m\u001b[0;34m\u001b[0m\u001b[0;34m\u001b[0m\u001b[0m\n",
      "\u001b[0;32m/home/Programs/miniconda3/envs/myenv/lib/python3.6/site-packages/tensorflow/python/eager/function.py\u001b[0m in \u001b[0;36mcall\u001b[0;34m(self, ctx, args, cancellation_manager)\u001b[0m\n\u001b[1;32m    594\u001b[0m               \u001b[0minputs\u001b[0m\u001b[0;34m=\u001b[0m\u001b[0margs\u001b[0m\u001b[0;34m,\u001b[0m\u001b[0;34m\u001b[0m\u001b[0;34m\u001b[0m\u001b[0m\n\u001b[1;32m    595\u001b[0m               \u001b[0mattrs\u001b[0m\u001b[0;34m=\u001b[0m\u001b[0mattrs\u001b[0m\u001b[0;34m,\u001b[0m\u001b[0;34m\u001b[0m\u001b[0;34m\u001b[0m\u001b[0m\n\u001b[0;32m--> 596\u001b[0;31m               ctx=ctx)\n\u001b[0m\u001b[1;32m    597\u001b[0m         \u001b[0;32melse\u001b[0m\u001b[0;34m:\u001b[0m\u001b[0;34m\u001b[0m\u001b[0;34m\u001b[0m\u001b[0m\n\u001b[1;32m    598\u001b[0m           outputs = execute.execute_with_cancellation(\n",
      "\u001b[0;32m/home/Programs/miniconda3/envs/myenv/lib/python3.6/site-packages/tensorflow/python/eager/execute.py\u001b[0m in \u001b[0;36mquick_execute\u001b[0;34m(op_name, num_outputs, inputs, attrs, ctx, name)\u001b[0m\n\u001b[1;32m     58\u001b[0m     \u001b[0mctx\u001b[0m\u001b[0;34m.\u001b[0m\u001b[0mensure_initialized\u001b[0m\u001b[0;34m(\u001b[0m\u001b[0;34m)\u001b[0m\u001b[0;34m\u001b[0m\u001b[0;34m\u001b[0m\u001b[0m\n\u001b[1;32m     59\u001b[0m     tensors = pywrap_tfe.TFE_Py_Execute(ctx._handle, device_name, op_name,\n\u001b[0;32m---> 60\u001b[0;31m                                         inputs, attrs, num_outputs)\n\u001b[0m\u001b[1;32m     61\u001b[0m   \u001b[0;32mexcept\u001b[0m \u001b[0mcore\u001b[0m\u001b[0;34m.\u001b[0m\u001b[0m_NotOkStatusException\u001b[0m \u001b[0;32mas\u001b[0m \u001b[0me\u001b[0m\u001b[0;34m:\u001b[0m\u001b[0;34m\u001b[0m\u001b[0;34m\u001b[0m\u001b[0m\n\u001b[1;32m     62\u001b[0m     \u001b[0;32mif\u001b[0m \u001b[0mname\u001b[0m \u001b[0;32mis\u001b[0m \u001b[0;32mnot\u001b[0m \u001b[0;32mNone\u001b[0m\u001b[0;34m:\u001b[0m\u001b[0;34m\u001b[0m\u001b[0;34m\u001b[0m\u001b[0m\n",
      "\u001b[0;31mKeyboardInterrupt\u001b[0m: "
     ]
    }
   ],
   "source": [
    "tuner = RandomSearch(build_model,\n",
    "                    objective = 'val_accuracy',\n",
    "                    max_trials = 5,\n",
    "                    directory = 'cashews_20210803',\n",
    "                    project_name = 'Cashew prediction using sentinel 2 images')\n",
    "# search best parameter\n",
    "tuner.search(xTrain,yTrain,epochs= 4,validation_data=(xTest,yTest))"
   ]
  },
  {
   "cell_type": "code",
   "execution_count": 37,
   "id": "51ffbffe",
   "metadata": {},
   "outputs": [
    {
     "ename": "IndexError",
     "evalue": "list index out of range",
     "output_type": "error",
     "traceback": [
      "\u001b[0;31m---------------------------------------------------------------------------\u001b[0m",
      "\u001b[0;31mIndexError\u001b[0m                                Traceback (most recent call last)",
      "\u001b[0;32m<ipython-input-37-9af94b3dfa19>\u001b[0m in \u001b[0;36m<module>\u001b[0;34m\u001b[0m\n\u001b[0;32m----> 1\u001b[0;31m \u001b[0mmodel\u001b[0m\u001b[0;34m=\u001b[0m\u001b[0mtuner\u001b[0m\u001b[0;34m.\u001b[0m\u001b[0mget_best_models\u001b[0m\u001b[0;34m(\u001b[0m\u001b[0mnum_models\u001b[0m\u001b[0;34m=\u001b[0m\u001b[0;36m0\u001b[0m\u001b[0;34m)\u001b[0m\u001b[0;34m[\u001b[0m\u001b[0;36m0\u001b[0m\u001b[0;34m]\u001b[0m\u001b[0;34m\u001b[0m\u001b[0;34m\u001b[0m\u001b[0m\n\u001b[0m\u001b[1;32m      2\u001b[0m \u001b[0;31m#summary of best model\u001b[0m\u001b[0;34m\u001b[0m\u001b[0;34m\u001b[0m\u001b[0;34m\u001b[0m\u001b[0m\n\u001b[1;32m      3\u001b[0m \u001b[0mmodel\u001b[0m\u001b[0;34m.\u001b[0m\u001b[0msummary\u001b[0m\u001b[0;34m(\u001b[0m\u001b[0;34m)\u001b[0m\u001b[0;34m\u001b[0m\u001b[0;34m\u001b[0m\u001b[0m\n",
      "\u001b[0;31mIndexError\u001b[0m: list index out of range"
     ]
    }
   ],
   "source": [
    "model=tuner.get_best_models(num_models=1)[0]\n",
    "#summary of best model\n",
    "model.summary()"
   ]
  },
  {
   "cell_type": "code",
   "execution_count": 16,
   "id": "f9b5bc7f",
   "metadata": {},
   "outputs": [
    {
     "name": "stdout",
     "output_type": "stream",
     "text": [
      "Epoch 4/30\n",
      "7592/7592 [==============================] - 88s 12ms/step - loss: 1.1551 - accuracy: 0.5160 - val_loss: 1.1638 - val_accuracy: 0.5137\n",
      "Epoch 5/30\n",
      "7592/7592 [==============================] - 88s 12ms/step - loss: 1.1503 - accuracy: 0.5186 - val_loss: 1.1703 - val_accuracy: 0.5102\n",
      "Epoch 6/30\n",
      "7592/7592 [==============================] - 84s 11ms/step - loss: 1.1464 - accuracy: 0.5189 - val_loss: 1.1608 - val_accuracy: 0.5115\n",
      "Epoch 7/30\n",
      "7592/7592 [==============================] - 84s 11ms/step - loss: 1.1420 - accuracy: 0.5214 - val_loss: 1.1516 - val_accuracy: 0.5199\n",
      "Epoch 8/30\n",
      "7592/7592 [==============================] - 85s 11ms/step - loss: 1.1389 - accuracy: 0.5226 - val_loss: 1.1519 - val_accuracy: 0.5164\n",
      "Epoch 9/30\n",
      "7592/7592 [==============================] - 84s 11ms/step - loss: 1.1353 - accuracy: 0.5235 - val_loss: 1.1466 - val_accuracy: 0.5208\n",
      "Epoch 10/30\n",
      "7592/7592 [==============================] - 83s 11ms/step - loss: 1.1317 - accuracy: 0.5255 - val_loss: 1.1686 - val_accuracy: 0.5101\n",
      "Epoch 11/30\n",
      "7592/7592 [==============================] - 83s 11ms/step - loss: 1.1285 - accuracy: 0.5267 - val_loss: 1.1489 - val_accuracy: 0.5227\n",
      "Epoch 12/30\n",
      "7592/7592 [==============================] - 84s 11ms/step - loss: 1.1253 - accuracy: 0.5287 - val_loss: 1.1496 - val_accuracy: 0.5176\n",
      "Epoch 13/30\n",
      "7592/7592 [==============================] - 84s 11ms/step - loss: 1.1221 - accuracy: 0.5295 - val_loss: 1.1354 - val_accuracy: 0.5267\n",
      "Epoch 14/30\n",
      "7592/7592 [==============================] - 85s 11ms/step - loss: 1.1200 - accuracy: 0.5304 - val_loss: 1.1425 - val_accuracy: 0.5218\n",
      "Epoch 15/30\n",
      "7592/7592 [==============================] - 86s 11ms/step - loss: 1.1162 - accuracy: 0.5321 - val_loss: 1.1419 - val_accuracy: 0.5221\n",
      "Epoch 16/30\n",
      "7592/7592 [==============================] - 89s 12ms/step - loss: 1.1135 - accuracy: 0.5334 - val_loss: 1.1482 - val_accuracy: 0.5212\n",
      "Epoch 17/30\n",
      "7592/7592 [==============================] - 87s 11ms/step - loss: 1.1121 - accuracy: 0.5330 - val_loss: 1.1338 - val_accuracy: 0.5267\n",
      "Epoch 18/30\n",
      "7592/7592 [==============================] - 86s 11ms/step - loss: 1.1095 - accuracy: 0.5340 - val_loss: 1.1467 - val_accuracy: 0.5199\n",
      "Epoch 19/30\n",
      "7592/7592 [==============================] - 87s 12ms/step - loss: 1.1066 - accuracy: 0.5347 - val_loss: 1.1383 - val_accuracy: 0.5220\n",
      "Epoch 20/30\n",
      "7592/7592 [==============================] - 87s 11ms/step - loss: 1.1049 - accuracy: 0.5366 - val_loss: 1.1267 - val_accuracy: 0.5282\n",
      "Epoch 21/30\n",
      "7592/7592 [==============================] - 87s 11ms/step - loss: 1.1027 - accuracy: 0.5374 - val_loss: 1.1527 - val_accuracy: 0.5222\n",
      "Epoch 22/30\n",
      "7592/7592 [==============================] - 87s 11ms/step - loss: 1.1003 - accuracy: 0.5385 - val_loss: 1.1353 - val_accuracy: 0.5241\n",
      "Epoch 23/30\n",
      "7592/7592 [==============================] - 87s 11ms/step - loss: 1.0988 - accuracy: 0.5382 - val_loss: 1.1335 - val_accuracy: 0.5232\n",
      "Epoch 24/30\n",
      "7592/7592 [==============================] - 84s 11ms/step - loss: 1.0970 - accuracy: 0.5402 - val_loss: 1.1326 - val_accuracy: 0.5262\n",
      "Epoch 25/30\n",
      "7592/7592 [==============================] - 83s 11ms/step - loss: 1.0954 - accuracy: 0.5404 - val_loss: 1.1185 - val_accuracy: 0.5281\n",
      "Epoch 26/30\n",
      "7592/7592 [==============================] - 81s 11ms/step - loss: 1.0940 - accuracy: 0.5418 - val_loss: 1.1210 - val_accuracy: 0.5309\n",
      "Epoch 27/30\n",
      "7592/7592 [==============================] - 81s 11ms/step - loss: 1.0918 - accuracy: 0.5421 - val_loss: 1.1207 - val_accuracy: 0.5315\n",
      "Epoch 28/30\n",
      "7592/7592 [==============================] - 82s 11ms/step - loss: 1.0907 - accuracy: 0.5417 - val_loss: 1.1158 - val_accuracy: 0.5324\n",
      "Epoch 29/30\n",
      "7592/7592 [==============================] - 87s 11ms/step - loss: 1.0890 - accuracy: 0.5425 - val_loss: 1.1107 - val_accuracy: 0.5350\n",
      "Epoch 30/30\n",
      "7592/7592 [==============================] - 83s 11ms/step - loss: 1.0864 - accuracy: 0.5443 - val_loss: 1.1294 - val_accuracy: 0.5242\n"
     ]
    },
    {
     "data": {
      "text/plain": [
       "<tensorflow.python.keras.callbacks.History at 0x7f636443bb00>"
      ]
     },
     "execution_count": 16,
     "metadata": {},
     "output_type": "execute_result"
    }
   ],
   "source": [
    "model.fit(xTest,yTest,\n",
    "          epochs=30,\n",
    "          validation_split=0.1,\n",
    "          initial_epoch=3)"
   ]
  },
  {
   "cell_type": "code",
   "execution_count": 13,
   "id": "3be70df7",
   "metadata": {},
   "outputs": [
    {
     "name": "stdout",
     "output_type": "stream",
     "text": [
      "INFO:tensorflow:Assets written to: file_name/assets\n"
     ]
    }
   ],
   "source": [
    "file_name = 'CNN_20210723'\n",
    "model.save('file_name')"
   ]
  },
  {
   "cell_type": "code",
   "execution_count": 15,
   "id": "32bff118",
   "metadata": {},
   "outputs": [
    {
     "name": "stdout",
     "output_type": "stream",
     "text": [
      "Results summary\n",
      "Results in cashews_20210723/Cashew prediction using sentinel 2 images\n",
      "Showing 10 best trials\n",
      "Objective(name='val_accuracy', direction='max')\n",
      "Trial summary\n",
      "Hyperparameters:\n",
      "conv_1_filter: 64\n",
      "conv_1_kernel: 5\n",
      "conv_2_filter: 32\n",
      "conv_2_kernel: 5\n",
      "dense_1_units: 112\n",
      "learning_rate: 0.001\n",
      "Score: 0.4984440207481384\n",
      "Trial summary\n",
      "Hyperparameters:\n",
      "conv_1_filter: 48\n",
      "conv_1_kernel: 5\n",
      "conv_2_filter: 48\n",
      "conv_2_kernel: 3\n",
      "dense_1_units: 48\n",
      "learning_rate: 0.001\n",
      "Score: 0.4949875473976135\n",
      "Trial summary\n",
      "Hyperparameters:\n",
      "conv_1_filter: 128\n",
      "conv_1_kernel: 3\n",
      "conv_2_filter: 48\n",
      "conv_2_kernel: 5\n",
      "dense_1_units: 64\n",
      "learning_rate: 0.001\n",
      "Score: 0.49479490518569946\n",
      "Trial summary\n",
      "Hyperparameters:\n",
      "conv_1_filter: 112\n",
      "conv_1_kernel: 5\n",
      "conv_2_filter: 48\n",
      "conv_2_kernel: 3\n",
      "dense_1_units: 48\n",
      "learning_rate: 0.01\n",
      "Score: 0.4330821633338928\n",
      "Trial summary\n",
      "Hyperparameters:\n",
      "conv_1_filter: 128\n",
      "conv_1_kernel: 3\n",
      "conv_2_filter: 48\n",
      "conv_2_kernel: 3\n",
      "dense_1_units: 80\n",
      "learning_rate: 0.01\n",
      "Score: 0.4330821633338928\n"
     ]
    }
   ],
   "source": [
    "tuner.results_summary()"
   ]
  },
  {
   "cell_type": "code",
   "execution_count": null,
   "id": "86ff8cbf",
   "metadata": {},
   "outputs": [],
   "source": []
  }
 ],
 "metadata": {
  "kernelspec": {
   "display_name": "Python 3",
   "language": "python",
   "name": "python3"
  },
  "language_info": {
   "codemirror_mode": {
    "name": "ipython",
    "version": 3
   },
   "file_extension": ".py",
   "mimetype": "text/x-python",
   "name": "python",
   "nbconvert_exporter": "python",
   "pygments_lexer": "ipython3",
   "version": "3.9.2"
  }
 },
 "nbformat": 4,
 "nbformat_minor": 5
}
