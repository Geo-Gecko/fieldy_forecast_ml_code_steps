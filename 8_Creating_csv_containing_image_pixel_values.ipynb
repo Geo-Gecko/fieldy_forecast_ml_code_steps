{
 "cells": [
  {
   "cell_type": "markdown",
   "id": "477b2baa",
   "metadata": {},
   "source": [
    "# Description\n",
    "This script's purpose is to create a table of datatype comma separated values(csv) from the image pixel values.\n"
   ]
  },
  {
   "cell_type": "code",
   "execution_count": null,
   "id": "75f9cea7",
   "metadata": {},
   "outputs": [],
   "source": [
    "# Required libraries\n",
    "import requests\n",
    "from urllib.parse import urlparse\n",
    "from pathlib import Path\n",
    "from datetime import datetime\n",
    "import tifffile as tiff\n",
    "import datetime\n",
    "import matplotlib.pyplot as plt\n",
    "import pandas as pd\n",
    "%matplotlib inline"
   ]
  },
  {
   "cell_type": "code",
   "execution_count": null,
   "id": "e3b07a67",
   "metadata": {},
   "outputs": [],
   "source": [
    "def load_file(fp):\n",
    "    \"\"\"Takes a PosixPath object or string filepath\n",
    "    and returns np array\"\"\"\n",
    "    \n",
    "    return tiff.imread(fp.__str__())"
   ]
  },
  {
   "cell_type": "code",
   "execution_count": null,
   "id": "60cf66cc",
   "metadata": {},
   "outputs": [],
   "source": [
    "bands = ['B01', 'B02', 'B03', 'B04', 'B05', 'B06', 'B07', 'B08', 'B8A', 'B09', 'B11', 'B12']"
   ]
  },
  {
   "cell_type": "code",
   "execution_count": null,
   "id": "4d015890",
   "metadata": {},
   "outputs": [],
   "source": [
    "# Sample file to load. Maintain the structure of where the images should be placed. The rest of the script will require this same arrangement\n",
    "file_name = \"data/00/20190314/0_B01_20190314.tif\"\n",
    "band_data = tiff.imread(file_name)\n",
    "band_data"
   ]
  },
  {
   "cell_type": "code",
   "execution_count": null,
   "id": "434c16a5",
   "metadata": {},
   "outputs": [],
   "source": [
    "#Take note of the filenames and file locations.\n",
    "for tile in range(1):\n",
    "    fids = f'./data/0{tile}/{tile}_field_id.tif'\n",
    "    labs = f'./data/0{tile}/{tile}_label.tif' #only use this when preparing csv to train the model\n",
    "    fid_arr = load_file(fids)\n",
    "    lab_arr = load_file(labs)#only use this when preparing csv to train the model"
   ]
  },
  {
   "cell_type": "code",
   "execution_count": null,
   "id": "1f2ca548",
   "metadata": {},
   "outputs": [],
   "source": [
    "# NOTE: Code slice being replaced has col_loc starting at 1 and fid starting at 1\n",
    "df = pd.DataFrame(\n",
    "    list(np.ndindex((fid_arr.shape[0],\n",
    "    fid_arr.shape[1]))), columns =['row_loc', 'col_loc']\n",
    ")\n",
    "df[\"fid\"] = fid_arr.flatten().astype(int)\n",
    "df[\"tile\"] = 0\n",
    "print(len(df))\n",
    "print(df.head())"
   ]
  },
  {
   "cell_type": "code",
   "execution_count": null,
   "id": "639bf51b",
   "metadata": {},
   "outputs": [],
   "source": [
    "print(len(df))\n",
    "print(df.groupby('fid').count().shape)\n",
    "print(df.columns)\n",
    "df.head()"
   ]
  },
  {
   "cell_type": "code",
   "execution_count": null,
   "id": "bc182f5d",
   "metadata": {},
   "outputs": [],
   "source": [
    "tile = 0\n",
    "d = datetime.datetime(2019,3,14)# Replace with the date or dates for the data you are using \n",
    "\n",
    "print(str(d))\n",
    "t = '0' + str(tile)\n",
    "for b in bands: # 3) For each band\n",
    "    print(b,  d.strftime(\"%m%d%Y\"))\n",
    "    col_name = d.strftime(\"%Y%m%d\") + '_' + b\n",
    "\n",
    "    # if tile == 0:\n",
    "    # If the column doesn't exist, create it and populate with 0s\n",
    "    if col_name not in df.columns:\n",
    "        df[col_name] = 0\n",
    "\n",
    "#             Load im\n",
    "    try:\n",
    "        im = load_file(f\"data/{t}/{d.strftime('%Y%m%d')}/{t[1]}_{b}_{d.strftime('%Y%m%d')}.tif\")\n",
    "        print(f\"__________{im.shape}\")\n",
    "    except FileNotFoundError:\n",
    "        continue\n",
    "\n",
    "    # NOTE: Pixel values are added accoriding to tile position in original.\n",
    "    # Since it's one tile, df.loc[df.tile == tile][['row_loc', 'col_loc']].values\n",
    "    # will return all row_loc and col_loc ptns of the df. so im.flatten and assign can replace this\n",
    "    df[col_name] = im.flatten().astype(int)"
   ]
  },
  {
   "cell_type": "code",
   "execution_count": null,
   "id": "efd0f184",
   "metadata": {},
   "outputs": [],
   "source": [
    "df.head()"
   ]
  },
  {
   "cell_type": "code",
   "execution_count": null,
   "id": "85da9c01",
   "metadata": {},
   "outputs": [],
   "source": [
    "df.to_csv('cashew_20190314.csv', index=False)"
   ]
  },
  {
   "cell_type": "code",
   "execution_count": null,
   "id": "98cc3a86",
   "metadata": {},
   "outputs": [],
   "source": []
  }
 ],
 "metadata": {
  "kernelspec": {
   "display_name": "Python 3",
   "language": "python",
   "name": "python3"
  },
  "language_info": {
   "codemirror_mode": {
    "name": "ipython",
    "version": 3
   },
   "file_extension": ".py",
   "mimetype": "text/x-python",
   "name": "python",
   "nbconvert_exporter": "python",
   "pygments_lexer": "ipython3",
   "version": "3.9.2"
  }
 },
 "nbformat": 4,
 "nbformat_minor": 5
}
