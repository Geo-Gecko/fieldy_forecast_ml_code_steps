{
 "cells": [
  {
   "cell_type": "markdown",
   "metadata": {},
   "source": [
    "# Description\n",
    "This script's purpose is to download atmospherically corrected sentinel 2 satellite imagery from sentinel hub using a bounding box.\n"
   ]
  },
  {
   "cell_type": "code",
   "execution_count": null,
   "metadata": {},
   "outputs": [],
   "source": [
    "from tqdm import tqdm\n",
    "from sentinelhub import (\n",
    "    SHConfig, BBox, CRS, SentinelHubRequest, BBoxSplitter,\n",
    "    MimeType, DataCollection, bbox_to_dimensions, read_data\n",
    ")\n",
    "# from shapely.geometry import shape, Polygon, MultiPolygon, MultiLineString"
   ]
  },
  {
   "cell_type": "code",
   "execution_count": null,
   "metadata": {},
   "outputs": [],
   "source": [
    "# Write your credentials here if you haven't already put them into config.json\n",
    "CLIENT_ID = ''\n",
    "CLIENT_SECRET = ''\n",
    "\n",
    "config = SHConfig()\n",
    "if CLIENT_ID and CLIENT_SECRET:\n",
    "    config.sh_client_id = CLIENT_ID\n",
    "    config.sh_client_secret = CLIENT_SECRET"
   ]
  },
  {
   "cell_type": "code",
   "execution_count": null,
   "metadata": {},
   "outputs": [],
   "source": [
    "_bbox = BBox([2.087283,8.960042,3.099352,9.955682], crs=CRS.WGS84)\n",
    "bbox_area = _bbox.geometry\n",
    "# bbox_area = bbox_area[\"features\"][0][\"geometry\"]\n",
    "print(f\"Type of area is {type(bbox_area)}\")\n",
    "bbox_splitter = BBoxSplitter([bbox_area], CRS.WGS84, (5, 5))\n",
    "bboxes_ = bbox_splitter.get_bbox_list()\n",
    "print(f\"Number of beat-boxes is: {len(bboxes_)}\")"
   ]
  },
  {
   "cell_type": "code",
   "execution_count": null,
   "metadata": {},
   "outputs": [],
   "source": [
    "# http://bboxfinder.com/ NOTE: Pass in geojson to that site to get coordinates below\n",
    "\n",
    "# _bbox = BBox([2.087283,8.960042,3.099352,9.955682], crs=CRS.WGS84)\n",
    "\n",
    "time_interval = '2019-11-20T00:00:00Z', '2019-11-21T00:00:00Z'\n",
    "\n",
    "evalscript_true_color = \"\"\"\n",
    "//VERSION=3\n",
    "\n",
    "function setup() {\n",
    "    return {\n",
    "        input: [{\n",
    "            bands: [\"B01\", \"B02\", \"B03\", \"B04\", \"B05\", \"B06\", \"B07\", \"B08\", \"B8A\", \"B09\", \"B11\", \"B12\"],\n",
    "        }],\n",
    "        output: {\n",
    "            bands: 12\n",
    "        }\n",
    "    };\n",
    "}\n",
    "\n",
    "function evaluatePixel(sample) {\n",
    "    return [sample.B01, sample.B02, sample.B03, sample.B04, sample.B05, sample.B06, sample.B07, sample.B08, sample.B8A, sample.B09, sample.B11, sample.B12];\n",
    "}\n",
    "\"\"\"\n",
    "for i, _bbox in tqdm(enumerate(bboxes_)):\n",
    "    bbox_size = bbox_to_dimensions(_bbox, resolution=10)\n",
    "    request = SentinelHubRequest(\n",
    "        data_folder=\"20191120_20191121\",\n",
    "        evalscript=evalscript_true_color,\n",
    "        input_data=[\n",
    "            SentinelHubRequest.input_data(\n",
    "                data_collection=DataCollection.SENTINEL2_L2A,\n",
    "                time_interval=time_interval,\n",
    "            )\n",
    "        ],\n",
    "        responses=[\n",
    "            SentinelHubRequest.output_response('default', MimeType.TIFF)\n",
    "        ],\n",
    "        bbox=_bbox,\n",
    "        size=bbox_size,\n",
    "        config=config\n",
    "    )\n",
    "\n",
    "    # image = request.get_data()[0]\n",
    "    request.save_data()"
   ]
  },
  {
   "cell_type": "code",
   "execution_count": null,
   "metadata": {},
   "outputs": [],
   "source": []
  }
 ],
 "metadata": {
  "kernelspec": {
   "display_name": "Python 3",
   "language": "python",
   "name": "python3"
  },
  "language_info": {
   "codemirror_mode": {
    "name": "ipython",
    "version": 3
   },
   "file_extension": ".py",
   "mimetype": "text/x-python",
   "name": "python",
   "nbconvert_exporter": "python",
   "pygments_lexer": "ipython3",
   "version": "3.9.2"
  }
 },
 "nbformat": 4,
 "nbformat_minor": 2
}
