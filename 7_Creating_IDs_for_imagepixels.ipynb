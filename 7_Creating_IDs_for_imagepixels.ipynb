{
 "cells": [
  {
   "cell_type": "markdown",
   "id": "580c2e73",
   "metadata": {},
   "source": [
    "# Description\n",
    "\n",
    "This script's purpose is to create a unique identifier (id) for each pixel in the image. \n",
    "\n",
    "This is done by transforming the pixels of an image into an array and assigning a new unique value to each array element. \n",
    "This new array is then used to populate a new .tif file in which each image pixel will be a unique identifier for that pixel"
   ]
  },
  {
   "cell_type": "code",
   "execution_count": null,
   "id": "34b40240",
   "metadata": {},
   "outputs": [],
   "source": [
    "from osgeo import gdal\n",
    "from affine import Affine\n",
    "import numpy as np\n",
    "import rasterio"
   ]
  },
  {
   "cell_type": "code",
   "execution_count": null,
   "id": "2fd4c391",
   "metadata": {},
   "outputs": [],
   "source": [
    "#Reading the image file and obtaining its existing  coordinates information\n",
    "step1 = gdal.Open('00/20190312/B01_20190312', gdal.GA_ReadOnly)\n",
    "GT_input = step1.GetGeoTransform()\n",
    "print(GT_input)\n",
    "transf = (399664.5859337867, 10.0, 0.0, 1100650.3206286626, 0.0, -10.0) #as obtained from GT_input\n",
    "afn = Affine.from_gdal(*transf)"
   ]
  },
  {
   "cell_type": "code",
   "execution_count": null,
   "id": "1049661d",
   "metadata": {},
   "outputs": [],
   "source": [
    "#Reading the image and creating an array from it \n",
    "step2 = step1.GetRasterBand(1)\n",
    "img_as_array = step2.ReadAsArray()\n",
    "x =img_as_array\n",
    "size1,size2=img_as_array.shape\n",
    "output=np.zeros(shape=(size1,size2))\n",
    "print(\"Image shape is\",output.shape)\n",
    "\n",
    "x_flatten = x.flatten()\n",
    "print(\"Flattened image shape is\",x_flatten.shape)"
   ]
  },
  {
   "cell_type": "code",
   "execution_count": null,
   "id": "c18f1166",
   "metadata": {},
   "outputs": [],
   "source": [
    "#Creating the unique ids\n",
    "Field_id = np.arange(len(x_flatten))\n",
    "result = np.column_stack((x_flatten,Field_id))\n",
    "print (\"resultant array\", str(result))\n",
    "\n",
    "#Keeping only the newly created id column and reshaping it to the original shape\n",
    "result_deleted = np.delete(result, 0, 1)\n",
    "print (\"resultant array after deleting\", str(result_deleted))\n",
    "array_output = np.reshape(result_deleted, (11021, 11125))#enter details as obtained from output.shape"
   ]
  },
  {
   "cell_type": "code",
   "execution_count": null,
   "id": "30299e16",
   "metadata": {},
   "outputs": [],
   "source": [
    "#Exporting the array created as a tif file\n",
    "dst_crs='EPSG:32630'#coordinate system of the destination tif\n",
    "output = np.int32(array_output)"
   ]
  },
  {
   "cell_type": "code",
   "execution_count": null,
   "id": "bd3738e5",
   "metadata": {},
   "outputs": [],
   "source": [
    "with rasterio.open(\n",
    "    'Fieldid.tif',#name of the outputfile \n",
    "    'w',\n",
    "    driver='GTiff',\n",
    "    height=output.shape[0],\n",
    "    width=output.shape[1],\n",
    "    count=1,\n",
    "    dtype=np.int32,\n",
    "    crs=dst_crs,\n",
    "    transform=afn,\n",
    ") as dest_file:\n",
    "    dest_file.write(output, 1)\n",
    "dest_file.close()"
   ]
  },
  {
   "cell_type": "code",
   "execution_count": null,
   "id": "546baccb",
   "metadata": {},
   "outputs": [],
   "source": []
  }
 ],
 "metadata": {
  "kernelspec": {
   "display_name": "Python 3",
   "language": "python",
   "name": "python3"
  },
  "language_info": {
   "codemirror_mode": {
    "name": "ipython",
    "version": 3
   },
   "file_extension": ".py",
   "mimetype": "text/x-python",
   "name": "python",
   "nbconvert_exporter": "python",
   "pygments_lexer": "ipython3",
   "version": "3.9.2"
  }
 },
 "nbformat": 4,
 "nbformat_minor": 5
}
