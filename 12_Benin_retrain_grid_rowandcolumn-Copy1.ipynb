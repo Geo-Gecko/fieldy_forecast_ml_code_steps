{
 "cells": [
  {
   "cell_type": "code",
   "execution_count": 1,
   "id": "e0f7ad66",
   "metadata": {},
   "outputs": [],
   "source": [
    "import geopandas as gpd\n",
    "from shapely.geometry import Polygon\n",
    "import numpy as np\n",
    "import pandas as pd"
   ]
  },
  {
   "cell_type": "code",
   "execution_count": 145,
   "id": "0e344da1",
   "metadata": {},
   "outputs": [],
   "source": [
    "data1 = pd.read_csv(\"seasonal_crops_Farm_Africa_data_2019.csv\")"
   ]
  },
  {
   "cell_type": "code",
   "execution_count": 146,
   "id": "73ebbcc1",
   "metadata": {
    "scrolled": true
   },
   "outputs": [
    {
     "data": {
      "text/html": [
       "<div>\n",
       "<style scoped>\n",
       "    .dataframe tbody tr th:only-of-type {\n",
       "        vertical-align: middle;\n",
       "    }\n",
       "\n",
       "    .dataframe tbody tr th {\n",
       "        vertical-align: top;\n",
       "    }\n",
       "\n",
       "    .dataframe thead th {\n",
       "        text-align: right;\n",
       "    }\n",
       "</style>\n",
       "<table border=\"1\" class=\"dataframe\">\n",
       "  <thead>\n",
       "    <tr style=\"text-align: right;\">\n",
       "      <th></th>\n",
       "      <th>row_loc</th>\n",
       "      <th>col_loc</th>\n",
       "      <th>tile</th>\n",
       "      <th>fid</th>\n",
       "      <th>NDVI_0</th>\n",
       "      <th>NDVI_1</th>\n",
       "      <th>NDVI_2</th>\n",
       "      <th>NDVI_3</th>\n",
       "      <th>NDVI_4</th>\n",
       "      <th>NDVI_5</th>\n",
       "      <th>NDVI_6</th>\n",
       "      <th>NDVI_7</th>\n",
       "      <th>NDVI_stand_dev</th>\n",
       "      <th>seasonal_crops</th>\n",
       "    </tr>\n",
       "  </thead>\n",
       "  <tbody>\n",
       "    <tr>\n",
       "      <th>0</th>\n",
       "      <td>4248</td>\n",
       "      <td>2323</td>\n",
       "      <td>0</td>\n",
       "      <td>14318083</td>\n",
       "      <td>0.000001</td>\n",
       "      <td>0.000001</td>\n",
       "      <td>0.000001</td>\n",
       "      <td>0.000001</td>\n",
       "      <td>0.000001</td>\n",
       "      <td>0.000001</td>\n",
       "      <td>0.000001</td>\n",
       "      <td>0.000001</td>\n",
       "      <td>0.000000</td>\n",
       "      <td>0</td>\n",
       "    </tr>\n",
       "    <tr>\n",
       "      <th>1</th>\n",
       "      <td>4250</td>\n",
       "      <td>956</td>\n",
       "      <td>0</td>\n",
       "      <td>14323456</td>\n",
       "      <td>0.000001</td>\n",
       "      <td>0.000001</td>\n",
       "      <td>0.000001</td>\n",
       "      <td>0.000001</td>\n",
       "      <td>0.000001</td>\n",
       "      <td>0.000001</td>\n",
       "      <td>0.000001</td>\n",
       "      <td>0.000001</td>\n",
       "      <td>0.000000</td>\n",
       "      <td>0</td>\n",
       "    </tr>\n",
       "    <tr>\n",
       "      <th>2</th>\n",
       "      <td>2089</td>\n",
       "      <td>1571</td>\n",
       "      <td>0</td>\n",
       "      <td>7041501</td>\n",
       "      <td>0.157895</td>\n",
       "      <td>0.238095</td>\n",
       "      <td>0.315789</td>\n",
       "      <td>0.050000</td>\n",
       "      <td>0.240506</td>\n",
       "      <td>0.327869</td>\n",
       "      <td>0.344828</td>\n",
       "      <td>0.327273</td>\n",
       "      <td>0.102866</td>\n",
       "      <td>1</td>\n",
       "    </tr>\n",
       "    <tr>\n",
       "      <th>3</th>\n",
       "      <td>1797</td>\n",
       "      <td>78</td>\n",
       "      <td>0</td>\n",
       "      <td>6055968</td>\n",
       "      <td>0.892857</td>\n",
       "      <td>0.846154</td>\n",
       "      <td>0.825000</td>\n",
       "      <td>0.839080</td>\n",
       "      <td>0.855422</td>\n",
       "      <td>0.885714</td>\n",
       "      <td>0.875000</td>\n",
       "      <td>0.863014</td>\n",
       "      <td>0.023451</td>\n",
       "      <td>0</td>\n",
       "    </tr>\n",
       "    <tr>\n",
       "      <th>4</th>\n",
       "      <td>3543</td>\n",
       "      <td>3369</td>\n",
       "      <td>0</td>\n",
       "      <td>11943279</td>\n",
       "      <td>0.000001</td>\n",
       "      <td>0.000001</td>\n",
       "      <td>0.000001</td>\n",
       "      <td>0.000001</td>\n",
       "      <td>0.000001</td>\n",
       "      <td>0.000001</td>\n",
       "      <td>0.000001</td>\n",
       "      <td>0.000001</td>\n",
       "      <td>0.000000</td>\n",
       "      <td>0</td>\n",
       "    </tr>\n",
       "  </tbody>\n",
       "</table>\n",
       "</div>"
      ],
      "text/plain": [
       "   row_loc  col_loc  tile       fid    NDVI_0    NDVI_1    NDVI_2    NDVI_3  \\\n",
       "0     4248     2323     0  14318083  0.000001  0.000001  0.000001  0.000001   \n",
       "1     4250      956     0  14323456  0.000001  0.000001  0.000001  0.000001   \n",
       "2     2089     1571     0   7041501  0.157895  0.238095  0.315789  0.050000   \n",
       "3     1797       78     0   6055968  0.892857  0.846154  0.825000  0.839080   \n",
       "4     3543     3369     0  11943279  0.000001  0.000001  0.000001  0.000001   \n",
       "\n",
       "     NDVI_4    NDVI_5    NDVI_6    NDVI_7  NDVI_stand_dev  seasonal_crops  \n",
       "0  0.000001  0.000001  0.000001  0.000001        0.000000               0  \n",
       "1  0.000001  0.000001  0.000001  0.000001        0.000000               0  \n",
       "2  0.240506  0.327869  0.344828  0.327273        0.102866               1  \n",
       "3  0.855422  0.885714  0.875000  0.863014        0.023451               0  \n",
       "4  0.000001  0.000001  0.000001  0.000001        0.000000               0  "
      ]
     },
     "execution_count": 146,
     "metadata": {},
     "output_type": "execute_result"
    }
   ],
   "source": [
    "data1.head()"
   ]
  },
  {
   "cell_type": "code",
   "execution_count": 147,
   "id": "6675b8c7",
   "metadata": {},
   "outputs": [
    {
     "name": "stdout",
     "output_type": "stream",
     "text": [
      "1.0\n",
      "-1.0\n"
     ]
    }
   ],
   "source": [
    "#getting NDVI columns from the whole dataframe\n",
    "selectlist_1 =[ 'NDVI_0', 'NDVI_1', 'NDVI_2', 'NDVI_3', 'NDVI_4', 'NDVI_5', 'NDVI_6', 'NDVI_7']\n",
    "datatowrite = data1[selectlist_1]\n",
    "max_value = datatowrite.to_numpy().max()\n",
    "min_value = datatowrite.to_numpy().min()\n",
    "\n",
    "print( max_value)\n",
    "print( min_value)"
   ]
  },
  {
   "cell_type": "code",
   "execution_count": 148,
   "id": "1e5fb560",
   "metadata": {},
   "outputs": [],
   "source": [
    "# for i in range(11) :\n",
    "#     df['NDVI_Standardise_{}'.format(i)] = ((df['NDVI_{}'.format(i)]-(-0.3991874))/(0.9409440-(-0.3991874))*1)\n",
    "#     df['NDVI_Standardise_{}'.format(i)] = df['NDVI_Standardise_{}'.format(i)].fillna(0.000001)"
   ]
  },
  {
   "cell_type": "code",
   "execution_count": 149,
   "id": "3d5a1a1f",
   "metadata": {},
   "outputs": [],
   "source": [
    "# data1['seasonal_crops_2'] = data1['NDVI_stand_dev'].apply(lambda x :1 if (x>0.05) else 0)"
   ]
  },
  {
   "cell_type": "code",
   "execution_count": 150,
   "id": "6da5d160",
   "metadata": {},
   "outputs": [
    {
     "data": {
      "text/plain": [
       "(14325870, 14)"
      ]
     },
     "execution_count": 150,
     "metadata": {},
     "output_type": "execute_result"
    }
   ],
   "source": [
    "data1.shape"
   ]
  },
  {
   "cell_type": "code",
   "execution_count": 151,
   "id": "e8cbd08c",
   "metadata": {},
   "outputs": [],
   "source": [
    "# csv = data1.drop(columns=['row_loc', 'col_loc','tile'])"
   ]
  },
  {
   "cell_type": "code",
   "execution_count": 152,
   "id": "ba0795ed",
   "metadata": {
    "scrolled": true
   },
   "outputs": [
    {
     "data": {
      "text/plain": [
       "Index(['row_loc', 'col_loc', 'tile', 'fid', 'NDVI_0', 'NDVI_1', 'NDVI_2',\n",
       "       'NDVI_3', 'NDVI_4', 'NDVI_5', 'NDVI_6', 'NDVI_7', 'NDVI_stand_dev',\n",
       "       'seasonal_crops'],\n",
       "      dtype='object')"
      ]
     },
     "execution_count": 152,
     "metadata": {},
     "output_type": "execute_result"
    }
   ],
   "source": [
    "data1.columns"
   ]
  },
  {
   "cell_type": "code",
   "execution_count": 153,
   "id": "14c79a8b",
   "metadata": {},
   "outputs": [],
   "source": [
    "csv = data1.drop(columns=['row_loc', 'col_loc','tile', 'NDVI_0', 'NDVI_1', 'NDVI_2',\n",
    "       'NDVI_3', 'NDVI_4', 'NDVI_5','NDVI_6', 'NDVI_7', 'NDVI_stand_dev'])"
   ]
  },
  {
   "cell_type": "code",
   "execution_count": 154,
   "id": "28490362",
   "metadata": {
    "scrolled": true
   },
   "outputs": [
    {
     "data": {
      "text/html": [
       "<div>\n",
       "<style scoped>\n",
       "    .dataframe tbody tr th:only-of-type {\n",
       "        vertical-align: middle;\n",
       "    }\n",
       "\n",
       "    .dataframe tbody tr th {\n",
       "        vertical-align: top;\n",
       "    }\n",
       "\n",
       "    .dataframe thead th {\n",
       "        text-align: right;\n",
       "    }\n",
       "</style>\n",
       "<table border=\"1\" class=\"dataframe\">\n",
       "  <thead>\n",
       "    <tr style=\"text-align: right;\">\n",
       "      <th></th>\n",
       "      <th>fid</th>\n",
       "      <th>seasonal_crops</th>\n",
       "    </tr>\n",
       "  </thead>\n",
       "  <tbody>\n",
       "    <tr>\n",
       "      <th>0</th>\n",
       "      <td>14318083</td>\n",
       "      <td>0</td>\n",
       "    </tr>\n",
       "    <tr>\n",
       "      <th>1</th>\n",
       "      <td>14323456</td>\n",
       "      <td>0</td>\n",
       "    </tr>\n",
       "    <tr>\n",
       "      <th>2</th>\n",
       "      <td>7041501</td>\n",
       "      <td>1</td>\n",
       "    </tr>\n",
       "    <tr>\n",
       "      <th>3</th>\n",
       "      <td>6055968</td>\n",
       "      <td>0</td>\n",
       "    </tr>\n",
       "    <tr>\n",
       "      <th>4</th>\n",
       "      <td>11943279</td>\n",
       "      <td>0</td>\n",
       "    </tr>\n",
       "  </tbody>\n",
       "</table>\n",
       "</div>"
      ],
      "text/plain": [
       "        fid  seasonal_crops\n",
       "0  14318083               0\n",
       "1  14323456               0\n",
       "2   7041501               1\n",
       "3   6055968               0\n",
       "4  11943279               0"
      ]
     },
     "execution_count": 154,
     "metadata": {},
     "output_type": "execute_result"
    }
   ],
   "source": [
    "csv.head()"
   ]
  },
  {
   "cell_type": "code",
   "execution_count": 155,
   "id": "106337c3",
   "metadata": {},
   "outputs": [],
   "source": [
    "csv_predicted_class = csv.drop(columns=['fid'])"
   ]
  },
  {
   "cell_type": "code",
   "execution_count": 156,
   "id": "2617cdeb",
   "metadata": {},
   "outputs": [],
   "source": [
    "(unique, counts) = np.unique(csv_predicted_class, return_counts=True)"
   ]
  },
  {
   "cell_type": "code",
   "execution_count": 157,
   "id": "56ed1ea4",
   "metadata": {
    "scrolled": false
   },
   "outputs": [
    {
     "name": "stdout",
     "output_type": "stream",
     "text": [
      "[[       0  1605187]\n",
      " [       1 12720683]]\n"
     ]
    }
   ],
   "source": [
    "frequencies = np.asarray((unique, counts)).T\n",
    "print(frequencies)"
   ]
  },
  {
   "cell_type": "code",
   "execution_count": 158,
   "id": "34b40240",
   "metadata": {},
   "outputs": [],
   "source": [
    "from osgeo import gdal"
   ]
  },
  {
   "cell_type": "code",
   "execution_count": 159,
   "id": "7fb7e324",
   "metadata": {},
   "outputs": [],
   "source": [
    "step1 = gdal.Open('data/00/field_id.tif', gdal.GA_ReadOnly)"
   ]
  },
  {
   "cell_type": "code",
   "execution_count": 160,
   "id": "09b40608",
   "metadata": {},
   "outputs": [
    {
     "data": {
      "text/plain": [
       "(4251, 3370)"
      ]
     },
     "execution_count": 160,
     "metadata": {},
     "output_type": "execute_result"
    }
   ],
   "source": [
    "from PIL import Image\n",
    "Image.MAX_IMAGE_PIXELS = 14325870\n",
    "im = Image.open('data/00/field_id.tif')\n",
    "im = np.array(im)\n",
    "im.shape"
   ]
  },
  {
   "cell_type": "code",
   "execution_count": 161,
   "id": "fd9a81d0",
   "metadata": {
    "scrolled": false
   },
   "outputs": [
    {
     "data": {
      "text/plain": [
       "array([[       0,        1,        2, ...,     3367,     3368,     3369],\n",
       "       [    3370,     3371,     3372, ...,     6737,     6738,     6739],\n",
       "       [    6740,     6741,     6742, ...,    10107,    10108,    10109],\n",
       "       ...,\n",
       "       [14315760, 14315761, 14315762, ..., 14319127, 14319128, 14319129],\n",
       "       [14319130, 14319131, 14319132, ..., 14322497, 14322498, 14322499],\n",
       "       [14322500, 14322501, 14322502, ..., 14325867, 14325868, 14325869]],\n",
       "      dtype=int32)"
      ]
     },
     "execution_count": 161,
     "metadata": {},
     "output_type": "execute_result"
    }
   ],
   "source": [
    "im"
   ]
  },
  {
   "cell_type": "code",
   "execution_count": 162,
   "id": "06766aeb",
   "metadata": {},
   "outputs": [],
   "source": [
    "GT_input = step1.GetGeoTransform()\n"
   ]
  },
  {
   "cell_type": "code",
   "execution_count": 163,
   "id": "b00ecdaf",
   "metadata": {},
   "outputs": [
    {
     "name": "stdout",
     "output_type": "stream",
     "text": [
      "(693559.1091246363, 10.0, 0.0, 133265.48983932866, 0.0, -10.0)\n"
     ]
    }
   ],
   "source": [
    "print(GT_input)"
   ]
  },
  {
   "cell_type": "code",
   "execution_count": 164,
   "id": "e4ac6571",
   "metadata": {},
   "outputs": [],
   "source": [
    "from affine import Affine"
   ]
  },
  {
   "cell_type": "code",
   "execution_count": 165,
   "id": "f9e2073d",
   "metadata": {},
   "outputs": [],
   "source": [
    "transf = (693559.1091246363, 10.0, 0.0, 133265.48983932866, 0.0, -10.0)\n",
    "afn = Affine.from_gdal(*transf)"
   ]
  },
  {
   "cell_type": "code",
   "execution_count": 166,
   "id": "0313d8ca",
   "metadata": {},
   "outputs": [],
   "source": [
    "step2 = step1.GetRasterBand(1)"
   ]
  },
  {
   "cell_type": "code",
   "execution_count": 167,
   "id": "1ae0390f",
   "metadata": {},
   "outputs": [],
   "source": [
    "img_as_array = step2.ReadAsArray()"
   ]
  },
  {
   "cell_type": "code",
   "execution_count": 168,
   "id": "cc3879e8",
   "metadata": {},
   "outputs": [],
   "source": [
    "x =img_as_array"
   ]
  },
  {
   "cell_type": "code",
   "execution_count": 169,
   "id": "0914e270",
   "metadata": {},
   "outputs": [],
   "source": [
    "size1,size2=img_as_array.shape"
   ]
  },
  {
   "cell_type": "code",
   "execution_count": 170,
   "id": "098f0e76",
   "metadata": {},
   "outputs": [],
   "source": [
    "import numpy as np\n",
    "output=np.zeros(shape=(size1,size2))"
   ]
  },
  {
   "cell_type": "code",
   "execution_count": 171,
   "id": "95cde377",
   "metadata": {},
   "outputs": [
    {
     "data": {
      "text/plain": [
       "(4251, 3370)"
      ]
     },
     "execution_count": 171,
     "metadata": {},
     "output_type": "execute_result"
    }
   ],
   "source": [
    "output.shape"
   ]
  },
  {
   "cell_type": "code",
   "execution_count": 172,
   "id": "ba02374e",
   "metadata": {
    "scrolled": false
   },
   "outputs": [
    {
     "name": "stdout",
     "output_type": "stream",
     "text": [
      "x [[       0        1        2 ...     3367     3368     3369]\n",
      " [    3370     3371     3372 ...     6737     6738     6739]\n",
      " [    6740     6741     6742 ...    10107    10108    10109]\n",
      " ...\n",
      " [14315760 14315761 14315762 ... 14319127 14319128 14319129]\n",
      " [14319130 14319131 14319132 ... 14322497 14322498 14322499]\n",
      " [14322500 14322501 14322502 ... 14325867 14325868 14325869]]\n"
     ]
    }
   ],
   "source": [
    "print(\"x\", str(x))"
   ]
  },
  {
   "cell_type": "code",
   "execution_count": 173,
   "id": "2ecb2b02",
   "metadata": {},
   "outputs": [],
   "source": [
    "x_flatten = x.flatten()"
   ]
  },
  {
   "cell_type": "code",
   "execution_count": 174,
   "id": "5277db7b",
   "metadata": {},
   "outputs": [],
   "source": [
    "df_x = pd.DataFrame(x_flatten, columns = ['fid'])"
   ]
  },
  {
   "cell_type": "code",
   "execution_count": 175,
   "id": "5709ce12",
   "metadata": {},
   "outputs": [
    {
     "data": {
      "text/plain": [
       "(14325870, 1)"
      ]
     },
     "execution_count": 175,
     "metadata": {},
     "output_type": "execute_result"
    }
   ],
   "source": [
    "df_x.shape"
   ]
  },
  {
   "cell_type": "code",
   "execution_count": 176,
   "id": "0bd15b62",
   "metadata": {
    "scrolled": false
   },
   "outputs": [
    {
     "data": {
      "text/html": [
       "<div>\n",
       "<style scoped>\n",
       "    .dataframe tbody tr th:only-of-type {\n",
       "        vertical-align: middle;\n",
       "    }\n",
       "\n",
       "    .dataframe tbody tr th {\n",
       "        vertical-align: top;\n",
       "    }\n",
       "\n",
       "    .dataframe thead th {\n",
       "        text-align: right;\n",
       "    }\n",
       "</style>\n",
       "<table border=\"1\" class=\"dataframe\">\n",
       "  <thead>\n",
       "    <tr style=\"text-align: right;\">\n",
       "      <th></th>\n",
       "      <th>fid</th>\n",
       "    </tr>\n",
       "  </thead>\n",
       "  <tbody>\n",
       "    <tr>\n",
       "      <th>0</th>\n",
       "      <td>0</td>\n",
       "    </tr>\n",
       "    <tr>\n",
       "      <th>1</th>\n",
       "      <td>1</td>\n",
       "    </tr>\n",
       "    <tr>\n",
       "      <th>2</th>\n",
       "      <td>2</td>\n",
       "    </tr>\n",
       "    <tr>\n",
       "      <th>3</th>\n",
       "      <td>3</td>\n",
       "    </tr>\n",
       "    <tr>\n",
       "      <th>4</th>\n",
       "      <td>4</td>\n",
       "    </tr>\n",
       "  </tbody>\n",
       "</table>\n",
       "</div>"
      ],
      "text/plain": [
       "   fid\n",
       "0    0\n",
       "1    1\n",
       "2    2\n",
       "3    3\n",
       "4    4"
      ]
     },
     "execution_count": 176,
     "metadata": {},
     "output_type": "execute_result"
    }
   ],
   "source": [
    "df_x.head()"
   ]
  },
  {
   "cell_type": "code",
   "execution_count": 177,
   "id": "bd7b9436",
   "metadata": {},
   "outputs": [],
   "source": [
    "csv_0_merged = pd.merge(df_x, csv, on=[\"fid\"], how='left')"
   ]
  },
  {
   "cell_type": "code",
   "execution_count": 178,
   "id": "7de18da3",
   "metadata": {
    "scrolled": true
   },
   "outputs": [
    {
     "data": {
      "text/html": [
       "<div>\n",
       "<style scoped>\n",
       "    .dataframe tbody tr th:only-of-type {\n",
       "        vertical-align: middle;\n",
       "    }\n",
       "\n",
       "    .dataframe tbody tr th {\n",
       "        vertical-align: top;\n",
       "    }\n",
       "\n",
       "    .dataframe thead th {\n",
       "        text-align: right;\n",
       "    }\n",
       "</style>\n",
       "<table border=\"1\" class=\"dataframe\">\n",
       "  <thead>\n",
       "    <tr style=\"text-align: right;\">\n",
       "      <th></th>\n",
       "      <th>fid</th>\n",
       "      <th>seasonal_crops</th>\n",
       "    </tr>\n",
       "  </thead>\n",
       "  <tbody>\n",
       "    <tr>\n",
       "      <th>0</th>\n",
       "      <td>0</td>\n",
       "      <td>0</td>\n",
       "    </tr>\n",
       "    <tr>\n",
       "      <th>1</th>\n",
       "      <td>1</td>\n",
       "      <td>0</td>\n",
       "    </tr>\n",
       "    <tr>\n",
       "      <th>2</th>\n",
       "      <td>2</td>\n",
       "      <td>0</td>\n",
       "    </tr>\n",
       "    <tr>\n",
       "      <th>3</th>\n",
       "      <td>3</td>\n",
       "      <td>0</td>\n",
       "    </tr>\n",
       "    <tr>\n",
       "      <th>4</th>\n",
       "      <td>4</td>\n",
       "      <td>0</td>\n",
       "    </tr>\n",
       "  </tbody>\n",
       "</table>\n",
       "</div>"
      ],
      "text/plain": [
       "   fid  seasonal_crops\n",
       "0    0               0\n",
       "1    1               0\n",
       "2    2               0\n",
       "3    3               0\n",
       "4    4               0"
      ]
     },
     "execution_count": 178,
     "metadata": {},
     "output_type": "execute_result"
    }
   ],
   "source": [
    "csv_0_merged.head()"
   ]
  },
  {
   "cell_type": "code",
   "execution_count": 179,
   "id": "d6547c0f",
   "metadata": {},
   "outputs": [
    {
     "data": {
      "text/plain": [
       "(14325870, 2)"
      ]
     },
     "execution_count": 179,
     "metadata": {},
     "output_type": "execute_result"
    }
   ],
   "source": [
    "csv_0_merged.shape"
   ]
  },
  {
   "cell_type": "code",
   "execution_count": 180,
   "id": "dc0efe37",
   "metadata": {},
   "outputs": [],
   "source": [
    "csv_0_merged_reduced = csv_0_merged.drop(columns=['fid'])"
   ]
  },
  {
   "cell_type": "code",
   "execution_count": 181,
   "id": "0ff84eae",
   "metadata": {
    "scrolled": false
   },
   "outputs": [
    {
     "data": {
      "text/html": [
       "<div>\n",
       "<style scoped>\n",
       "    .dataframe tbody tr th:only-of-type {\n",
       "        vertical-align: middle;\n",
       "    }\n",
       "\n",
       "    .dataframe tbody tr th {\n",
       "        vertical-align: top;\n",
       "    }\n",
       "\n",
       "    .dataframe thead th {\n",
       "        text-align: right;\n",
       "    }\n",
       "</style>\n",
       "<table border=\"1\" class=\"dataframe\">\n",
       "  <thead>\n",
       "    <tr style=\"text-align: right;\">\n",
       "      <th></th>\n",
       "      <th>seasonal_crops</th>\n",
       "    </tr>\n",
       "  </thead>\n",
       "  <tbody>\n",
       "    <tr>\n",
       "      <th>0</th>\n",
       "      <td>0</td>\n",
       "    </tr>\n",
       "    <tr>\n",
       "      <th>1</th>\n",
       "      <td>0</td>\n",
       "    </tr>\n",
       "    <tr>\n",
       "      <th>2</th>\n",
       "      <td>0</td>\n",
       "    </tr>\n",
       "    <tr>\n",
       "      <th>3</th>\n",
       "      <td>0</td>\n",
       "    </tr>\n",
       "    <tr>\n",
       "      <th>4</th>\n",
       "      <td>0</td>\n",
       "    </tr>\n",
       "  </tbody>\n",
       "</table>\n",
       "</div>"
      ],
      "text/plain": [
       "   seasonal_crops\n",
       "0               0\n",
       "1               0\n",
       "2               0\n",
       "3               0\n",
       "4               0"
      ]
     },
     "execution_count": 181,
     "metadata": {},
     "output_type": "execute_result"
    }
   ],
   "source": [
    "csv_0_merged_reduced.head()"
   ]
  },
  {
   "cell_type": "code",
   "execution_count": 182,
   "id": "a962f114",
   "metadata": {},
   "outputs": [
    {
     "data": {
      "text/plain": [
       "(14325870, 1)"
      ]
     },
     "execution_count": 182,
     "metadata": {},
     "output_type": "execute_result"
    }
   ],
   "source": [
    "csv_0_merged_reduced.shape"
   ]
  },
  {
   "cell_type": "code",
   "execution_count": 183,
   "id": "19919523",
   "metadata": {},
   "outputs": [],
   "source": [
    "(unique, counts) = np.unique(csv_0_merged_reduced, return_counts=True)"
   ]
  },
  {
   "cell_type": "code",
   "execution_count": 184,
   "id": "7c8a606d",
   "metadata": {
    "scrolled": true
   },
   "outputs": [
    {
     "name": "stdout",
     "output_type": "stream",
     "text": [
      "[[       0  1605187]\n",
      " [       1 12720683]]\n"
     ]
    }
   ],
   "source": [
    "frequencies_2 = np.asarray((unique, counts)).T\n",
    "print(frequencies_2)"
   ]
  },
  {
   "cell_type": "code",
   "execution_count": 185,
   "id": "211d5d80",
   "metadata": {},
   "outputs": [],
   "source": [
    "output = csv_0_merged_reduced.to_numpy()"
   ]
  },
  {
   "cell_type": "code",
   "execution_count": 186,
   "id": "3f8c703e",
   "metadata": {},
   "outputs": [],
   "source": [
    "array_output = np.reshape(output, (4251, 3370))"
   ]
  },
  {
   "cell_type": "code",
   "execution_count": 187,
   "id": "b2e5a11f",
   "metadata": {},
   "outputs": [],
   "source": [
    "import rasterio"
   ]
  },
  {
   "cell_type": "code",
   "execution_count": 188,
   "id": "6f88c757",
   "metadata": {},
   "outputs": [],
   "source": [
    "dst_crs=\"EPSG:32636\""
   ]
  },
  {
   "cell_type": "code",
   "execution_count": 189,
   "id": "24a019b3",
   "metadata": {
    "scrolled": true
   },
   "outputs": [
    {
     "data": {
      "text/plain": [
       "3370"
      ]
     },
     "execution_count": 189,
     "metadata": {},
     "output_type": "execute_result"
    }
   ],
   "source": [
    "array_output.shape[1]"
   ]
  },
  {
   "cell_type": "code",
   "execution_count": 190,
   "id": "c564c478",
   "metadata": {},
   "outputs": [],
   "source": [
    "with rasterio.open(\n",
    "    'NDVI_Standard_dev_Farm_Africa_data_EPSG_32636_2019_seasonal_crops.tif',\n",
    "    'w',\n",
    "    driver='GTiff',\n",
    "    height=array_output.shape[0],\n",
    "    width=array_output.shape[1],\n",
    "    count=1,\n",
    "    dtype=np.float32,\n",
    "    crs=dst_crs,\n",
    "    transform=afn,\n",
    ") as dest_file:\n",
    "    dest_file.write(array_output, 1)\n",
    "dest_file.close()"
   ]
  },
  {
   "cell_type": "code",
   "execution_count": null,
   "id": "8973b528",
   "metadata": {},
   "outputs": [],
   "source": []
  }
 ],
 "metadata": {
  "kernelspec": {
   "display_name": "Python 3 (ipykernel)",
   "language": "python",
   "name": "python3"
  },
  "language_info": {
   "codemirror_mode": {
    "name": "ipython",
    "version": 3
   },
   "file_extension": ".py",
   "mimetype": "text/x-python",
   "name": "python",
   "nbconvert_exporter": "python",
   "pygments_lexer": "ipython3",
   "version": "3.9.6"
  }
 },
 "nbformat": 4,
 "nbformat_minor": 5
}
