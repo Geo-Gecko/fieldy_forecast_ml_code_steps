{
 "cells": [
  {
   "cell_type": "code",
   "execution_count": 23,
   "id": "6e4bc7d8",
   "metadata": {},
   "outputs": [
    {
     "name": "stdout",
     "output_type": "stream",
     "text": [
      "Input file size is 2589, 3270\n",
      "0...10...20...30...40...50...60...70...80...90...100 - done.\n",
      "Input file size is 2589, 3270\n",
      "0...10...20...30...40...50...60...70...80...90...100 - done.\n",
      "Input file size is 2589, 3270\n",
      "0...10...20...30...40...50...60...70...80...90...100 - done.\n",
      "Input file size is 2589, 3270\n",
      "0...10...20...30...40...50...60...70...80...90...100 - done.\n"
     ]
    }
   ],
   "source": [
    "import os\n",
    "\n",
    "f_ = os.listdir(\"reprojected/20191127_20191129\")\n",
    "# f_20191120 = os.listdir(\"data/reprojected/20191120\")\n",
    "\n",
    "for dir_ in [(\"reprojected/20191127_20191129\", f_)]:\n",
    "    for file_ in dir_[1]:\n",
    "        os.system(f\"gdal_translate -tr 10 10 reprojected/20191127_20191129/{file_} resampled/20191127_20191129/resampled_{file_}\")\n",
    "            \n",
    "  "
   ]
  }
 ],
 "metadata": {
  "kernelspec": {
   "display_name": "Python 3 (ipykernel)",
   "language": "python",
   "name": "python3"
  },
  "language_info": {
   "codemirror_mode": {
    "name": "ipython",
    "version": 3
   },
   "file_extension": ".py",
   "mimetype": "text/x-python",
   "name": "python",
   "nbconvert_exporter": "python",
   "pygments_lexer": "ipython3",
   "version": "3.9.6"
  }
 },
 "nbformat": 4,
 "nbformat_minor": 5
}
