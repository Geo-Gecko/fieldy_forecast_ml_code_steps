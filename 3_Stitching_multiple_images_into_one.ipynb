{
 "cells": [
  {
   "cell_type": "markdown",
   "id": "b3c4e221",
   "metadata": {},
   "source": [
    "# Description\n",
    "This script's purpose is to stitch muliple images into one image that contains all the stitched images.\n"
   ]
  },
  {
   "cell_type": "code",
   "execution_count": null,
   "id": "1feebf12",
   "metadata": {},
   "outputs": [],
   "source": [
    "import rasterio\n",
    "from rasterio.merge import merge\n",
    "from rasterio.plot import show\n",
    "import glob\n",
    "import os\n",
    "%matplotlib inline"
   ]
  },
  {
   "cell_type": "code",
   "execution_count": null,
   "id": "4732b404",
   "metadata": {},
   "outputs": [],
   "source": [
    "#Define the path location that contains the imaages to be stitched\n",
    "path = \"20200319_20200320\"\n",
    "dir_list = os.listdir(path)\n",
    "  \n",
    "print(\"Files and directories in '\", path, \"' :\") \n",
    "  \n",
    "# print the list\n",
    "print(dir_list)"
   ]
  },
  {
   "cell_type": "code",
   "execution_count": null,
   "id": "7f5eb328",
   "metadata": {},
   "outputs": [],
   "source": [
    "tff_lst  = []\n",
    "for file in dir_list:\n",
    "    filepath = os.path.join(path,file,\"band5.tif\")\n",
    "#     print(filepath\n",
    "    tff_lst.append(filepath)\n"
   ]
  },
  {
   "cell_type": "code",
   "execution_count": null,
   "id": "fc4977b7",
   "metadata": {},
   "outputs": [],
   "source": [
    "print(len(tff_lst))\n",
    "print(tff_lst)"
   ]
  },
  {
   "cell_type": "code",
   "execution_count": null,
   "id": "0daa2c99",
   "metadata": {},
   "outputs": [],
   "source": [
    "src_files_to_mosaic = []\n",
    "\n",
    "# Iterate over raster files and add them to source -list in 'read mode'\n",
    "for tff in tff_lst:\n",
    "    src = rasterio.open(tff)\n",
    "    src_files_to_mosaic.append(src)\n",
    "\n",
    "src_files_to_mosaic"
   ]
  },
  {
   "cell_type": "code",
   "execution_count": null,
   "id": "d284f5c7",
   "metadata": {},
   "outputs": [],
   "source": [
    "import matplotlib.pyplot as plt\n",
    "%matplotlib inline\n",
    "\n",
    "#  Create 4 plots next to each other\n",
    "\n",
    "fig, (ax1, ax2, ax3, ax4, ax5, ax6, ax7, ax8, ax9, ax10, ax11, ax12, ax13, ax14, ax15, ax16, ax17, ax18, ax19, ax20, ax21, ax22, ax23, ax24, ax25) = plt.subplots(ncols=25, nrows=1, figsize=(12, 4))\n",
    "\n",
    "# fig, (ax1, ax2, ax3, ax4, ax5, ax6, ax7, ax8, ax9, ax10, ax11, ax12, ax13, ax14, ax15, ax16, ax17, ax18, ax19, ax20, ax21, ax22, ax23, ax24, ax25) = plt.subplots(ncols=25, nrows=1, figsize=(4, 8))\n",
    "\n",
    "# # Plot first four files\n",
    "show(src_files_to_mosaic[0], ax=ax1)\n",
    "show(src_files_to_mosaic[1], ax=ax2)\n",
    "show(src_files_to_mosaic[2], ax=ax3)\n",
    "show(src_files_to_mosaic[3], ax=ax4)\n",
    "show(src_files_to_mosaic[4], ax=ax5)\n",
    "show(src_files_to_mosaic[5], ax=ax6)\n",
    "show(src_files_to_mosaic[6], ax=ax7)\n",
    "show(src_files_to_mosaic[7], ax=ax8)\n",
    "show(src_files_to_mosaic[8], ax=ax9)\n",
    "show(src_files_to_mosaic[9], ax=ax10)\n",
    "show(src_files_to_mosaic[10], ax=ax11)\n",
    "show(src_files_to_mosaic[11], ax=ax12)\n",
    "show(src_files_to_mosaic[12], ax=ax13)\n",
    "show(src_files_to_mosaic[13], ax=ax14)\n",
    "show(src_files_to_mosaic[14], ax=ax15)\n",
    "show(src_files_to_mosaic[15], ax=ax16)\n",
    "show(src_files_to_mosaic[16], ax=ax17)\n",
    "show(src_files_to_mosaic[17], ax=ax18)\n",
    "show(src_files_to_mosaic[18], ax=ax19)\n",
    "show(src_files_to_mosaic[19], ax=ax20)\n",
    "show(src_files_to_mosaic[20], ax=ax21)\n",
    "show(src_files_to_mosaic[21], ax=ax22)\n",
    "show(src_files_to_mosaic[22], ax=ax23)\n",
    "show(src_files_to_mosaic[23], ax=ax24)\n",
    "show(src_files_to_mosaic[24], ax=ax25)\n",
    "\n",
    "\n",
    "# # Do not show y-ticks values in last three axis\n",
    "# # for ax in [ax2]:\n",
    "# #     ax.yaxis.set_visible(False)"
   ]
  },
  {
   "cell_type": "code",
   "execution_count": null,
   "id": "70f94d94",
   "metadata": {},
   "outputs": [],
   "source": [
    "# Merge function returns a single mosaic array and the transformation info\n",
    "mosaic, out_trans = merge(src_files_to_mosaic)\n",
    "\n",
    "# Plot the result\n",
    "show(mosaic, cmap='terrain')\n",
    "\n",
    "#Define the coordinate system of the destination image\n",
    "dst_crs='EPSG:4326'"
   ]
  },
  {
   "cell_type": "code",
   "execution_count": null,
   "id": "b0b36470",
   "metadata": {},
   "outputs": [],
   "source": [
    "out_meta = src.meta.copy()\n",
    "\n",
    "# Update the metadata for the output image \n",
    "out_meta.update({\"driver\": \"GTiff\",\n",
    "                 \"height\": mosaic.shape[1],\n",
    "                 \"width\": mosaic.shape[2],\n",
    "                 \"transform\": out_trans,\n",
    "                 \"crs\": dst_crs\n",
    "                 }\n",
    "                )"
   ]
  },
  {
   "cell_type": "code",
   "execution_count": null,
   "id": "7350e092",
   "metadata": {},
   "outputs": [],
   "source": [
    "#Define the name of the destination file\n",
    "with rasterio.open('20200319/band5.tif', \"w\", **out_meta) as dest:\n",
    "    dest.write(mosaic)"
   ]
  },
  {
   "cell_type": "code",
   "execution_count": null,
   "id": "343cbda8",
   "metadata": {},
   "outputs": [],
   "source": []
  }
 ],
 "metadata": {
  "kernelspec": {
   "display_name": "Python 3",
   "language": "python",
   "name": "python3"
  },
  "language_info": {
   "codemirror_mode": {
    "name": "ipython",
    "version": 3
   },
   "file_extension": ".py",
   "mimetype": "text/x-python",
   "name": "python",
   "nbconvert_exporter": "python",
   "pygments_lexer": "ipython3",
   "version": "3.9.2"
  }
 },
 "nbformat": 4,
 "nbformat_minor": 5
}
