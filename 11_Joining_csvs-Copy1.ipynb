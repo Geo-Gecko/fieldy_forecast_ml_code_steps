{
 "cells": [
  {
   "cell_type": "code",
   "execution_count": 1,
   "id": "d21de01f",
   "metadata": {},
   "outputs": [],
   "source": [
    "import os\n",
    "import pandas as pd\n"
   ]
  },
  {
   "cell_type": "code",
   "execution_count": 3,
   "id": "4c6efc0f",
   "metadata": {},
   "outputs": [
    {
     "name": "stdout",
     "output_type": "stream",
     "text": [
      "Check generated unique classes [0 1]\n"
     ]
    }
   ],
   "source": [
    "files_ = os.listdir(\"NDVI_csvs_2018\")\n",
    "dfs = [pd.read_csv(f\"NDVI_csvs_2018/{f_}\") for f_ in files_]\n",
    "df = pd.concat(dfs, ignore_index=True)\n",
    "print(f\"Check generated unique classes {df[ 'seasonal_crops'].unique()}\")\n",
    "df.to_csv(\"seasonal_crops_Farm_Africa_data_2018.csv\", index=False)"
   ]
  },
  {
   "cell_type": "code",
   "execution_count": null,
   "id": "9dad7a50",
   "metadata": {},
   "outputs": [],
   "source": []
  }
 ],
 "metadata": {
  "kernelspec": {
   "display_name": "Python 3 (ipykernel)",
   "language": "python",
   "name": "python3"
  },
  "language_info": {
   "codemirror_mode": {
    "name": "ipython",
    "version": 3
   },
   "file_extension": ".py",
   "mimetype": "text/x-python",
   "name": "python",
   "nbconvert_exporter": "python",
   "pygments_lexer": "ipython3",
   "version": "3.9.6"
  }
 },
 "nbformat": 4,
 "nbformat_minor": 5
}
