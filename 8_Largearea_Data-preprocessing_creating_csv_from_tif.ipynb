{
 "cells": [
  {
   "cell_type": "code",
   "execution_count": 1,
   "id": "75f9cea7",
   "metadata": {},
   "outputs": [],
   "source": [
    "# Required libraries\n",
    "import requests\n",
    "from urllib.parse import urlparse\n",
    "from pathlib import Path\n",
    "from datetime import datetime\n",
    "# Required libraries\n",
    "import tifffile as tiff\n",
    "import datetime\n",
    "import matplotlib.pyplot as plt\n",
    "%matplotlib inline"
   ]
  },
  {
   "cell_type": "code",
   "execution_count": 2,
   "id": "e3b07a67",
   "metadata": {},
   "outputs": [],
   "source": [
    "def load_file(fp):\n",
    "    \"\"\"Takes a PosixPath object or string filepath\n",
    "    and returns np array\"\"\"\n",
    "    \n",
    "    return tiff.imread(fp.__str__())"
   ]
  },
  {
   "cell_type": "code",
   "execution_count": 3,
   "id": "faa32fbf",
   "metadata": {},
   "outputs": [],
   "source": [
    "# List of dates that an observation from Sentinel-2 is provided in the training dataset\n",
    "dates = [\n",
    "#     datetime.datetime(2017, 6, 21, 8, 10, 7),\n",
    "# datetime.datetime(2018,11,9), \n",
    "# datetime.datetime(2018,11,14),\n",
    "# datetime.datetime(2018,11,24),\n",
    "# datetime.datetime(2018,12,9),\n",
    "# datetime.datetime(2018,12,14), \n",
    "# datetime.datetime(2018,12,19),\n",
    "# datetime.datetime(2018,12,24),\n",
    "# datetime.datetime(2018,12,29),   \n",
    "# datetime.datetime(2019,1,13),\n",
    "# datetime.datetime(2019,1,23),\n",
    "# datetime.datetime(2019,2,7),\n",
    "# datetime.datetime(2019,2,17),\n",
    "# datetime.datetime(2019,2,22), \n",
    "# datetime.datetime(2019,2,27),    \n",
    "# datetime.datetime(2019,3,4), \n",
    "# datetime.datetime(2019,3,9),\n",
    "# datetime.datetime(2020,1,7), \n",
    "# datetime.datetime(2020,1,7), \n",
    "# datetime.datetime(2020,5,1)\n",
    "#     datetime.datetime(2020,10,3)\n",
    "#     datetime.datetime(2020,12,12)\n",
    "    datetime.datetime(2020,12,14)\n",
    "    \n",
    "    \n",
    "# datetime.datetime(2020,7,12),  \n",
    "# datetime.datetime(2020,8,16),  \n",
    "# datetime.datetime(2020,9,20),  \n",
    "# datetime.datetime(2020,10,30),\n",
    "# datetime.datetime(2019,11,5),        \n",
    "# datetime.datetime(2019,12,15),  \n",
    "# datetime.datetime(2020,1,19),  \n",
    "# datetime.datetime(2020,2,28),  \n",
    "# datetime.datetime(2020,4,3),  \n",
    "# datetime.datetime(2020,5,8),  \n",
    "# datetime.datetime(2020,6,12),  \n",
    "# datetime.datetime(2020,7,17),  \n",
    "# datetime.datetime(2020,8,21),  \n",
    "# datetime.datetime(2020,9,25),\n",
    "# datetime.datetime(2019,11,10),        \n",
    "# datetime.datetime(2019,12,20)\n",
    "]"
   ]
  },
  {
   "cell_type": "code",
   "execution_count": 4,
   "id": "60cf66cc",
   "metadata": {},
   "outputs": [],
   "source": [
    "# bands = ['B01', 'B02', 'B03', 'B04', 'B05', 'B06', 'B07', 'B08', 'B8A', 'B09', 'B11', 'B12']\n",
    "bands = ['B02', 'B03', 'B04', 'B08']"
   ]
  },
  {
   "cell_type": "code",
   "execution_count": 25,
   "id": "4d015890",
   "metadata": {
    "scrolled": true
   },
   "outputs": [
    {
     "data": {
      "text/plain": [
       "array([[64, 64, 64, ..., 63, 63, 67],\n",
       "       [64, 64, 64, ..., 63, 63, 67],\n",
       "       [47, 47, 47, ..., 77, 77, 66],\n",
       "       ...,\n",
       "       [58, 58, 58, ..., 73, 73, 74],\n",
       "       [58, 58, 58, ..., 73, 73, 74],\n",
       "       [61, 61, 69, ..., 73, 73, 69]], dtype=uint8)"
      ]
     },
     "execution_count": 25,
     "metadata": {},
     "output_type": "execute_result"
    }
   ],
   "source": [
    "# Sample file to load:\n",
    "file_name = \"data/00/20180215/0_B08_20180215.tif\"\n",
    "# file_name = \"data/00/0_label.tif\"\n",
    "# file_name = \"data/20170909_imagery_resampled/L2A_T36NXH_20170909T074941_B01_10m-Copy1.tif\"\n",
    "band_data = tiff.imread(file_name)\n",
    "band_data"
   ]
  },
  {
   "cell_type": "code",
   "execution_count": 26,
   "id": "86c2ae9f",
   "metadata": {},
   "outputs": [
    {
     "data": {
      "text/plain": [
       "(1999, 1999)"
      ]
     },
     "execution_count": 26,
     "metadata": {},
     "output_type": "execute_result"
    }
   ],
   "source": [
    "band_data.shape"
   ]
  },
  {
   "cell_type": "code",
   "execution_count": 27,
   "id": "e4654db6",
   "metadata": {},
   "outputs": [
    {
     "data": {
      "text/plain": [
       "(1999, 1999)"
      ]
     },
     "execution_count": 27,
     "metadata": {},
     "output_type": "execute_result"
    }
   ],
   "source": [
    "band_data.shape"
   ]
  },
  {
   "cell_type": "code",
   "execution_count": 24,
   "id": "2f6c3536",
   "metadata": {},
   "outputs": [],
   "source": [
    "import rasterio\n",
    "from rasterio.warp import calculate_default_transform, reproject, Resampling\n",
    "import os"
   ]
  },
  {
   "cell_type": "code",
   "execution_count": 25,
   "id": "f7c5101e",
   "metadata": {},
   "outputs": [],
   "source": [
    "# band_data_ = rasterio.open(file_name)\n",
    "# print (band_data_.crs)"
   ]
  },
  {
   "cell_type": "code",
   "execution_count": 26,
   "id": "961afa7d",
   "metadata": {},
   "outputs": [],
   "source": [
    "# expRst = rasterio.open(file_name)\n",
    "# expRst.crs"
   ]
  },
  {
   "cell_type": "code",
   "execution_count": 75,
   "id": "f07af735",
   "metadata": {},
   "outputs": [
    {
     "name": "stdout",
     "output_type": "stream",
     "text": [
      "EPSG:32636\n"
     ]
    }
   ],
   "source": [
    "for tile in range(1):\n",
    "    fids = f'data/00/field_id.tif'\n",
    "    expRst = rasterio.open(fids)\n",
    "    print (expRst.crs)"
   ]
  },
  {
   "cell_type": "code",
   "execution_count": 76,
   "id": "4da964b2",
   "metadata": {
    "scrolled": true
   },
   "outputs": [
    {
     "data": {
      "text/plain": [
       "array([[       0,        1,        2, ...,     3367,     3368,     3369],\n",
       "       [    3370,     3371,     3372, ...,     6737,     6738,     6739],\n",
       "       [    6740,     6741,     6742, ...,    10107,    10108,    10109],\n",
       "       ...,\n",
       "       [14315760, 14315761, 14315762, ..., 14319127, 14319128, 14319129],\n",
       "       [14319130, 14319131, 14319132, ..., 14322497, 14322498, 14322499],\n",
       "       [14322500, 14322501, 14322502, ..., 14325867, 14325868, 14325869]],\n",
       "      dtype=int32)"
      ]
     },
     "execution_count": 76,
     "metadata": {},
     "output_type": "execute_result"
    }
   ],
   "source": [
    "band_data = tiff.imread(fids)\n",
    "band_data"
   ]
  },
  {
   "cell_type": "code",
   "execution_count": 77,
   "id": "b9e3062b",
   "metadata": {},
   "outputs": [
    {
     "data": {
      "text/plain": [
       "(4251, 3370)"
      ]
     },
     "execution_count": 77,
     "metadata": {},
     "output_type": "execute_result"
    }
   ],
   "source": [
    "band_data.shape"
   ]
  },
  {
   "cell_type": "code",
   "execution_count": 78,
   "id": "434c16a5",
   "metadata": {},
   "outputs": [],
   "source": [
    "for tile in range(1):\n",
    "    fids = f'data/00/field_id.tif'\n",
    "#     labs = f'./data/0{tile}/{tile}_label.tif'\n",
    "    fid_arr = load_file(fids)\n",
    "#     lab_arr = load_file(labs)"
   ]
  },
  {
   "cell_type": "code",
   "execution_count": 79,
   "id": "1f80c1fb",
   "metadata": {},
   "outputs": [
    {
     "data": {
      "text/plain": [
       "(4251, 3370)"
      ]
     },
     "execution_count": 79,
     "metadata": {},
     "output_type": "execute_result"
    }
   ],
   "source": [
    "fid_arr.shape"
   ]
  },
  {
   "cell_type": "code",
   "execution_count": 80,
   "id": "51bfc853",
   "metadata": {},
   "outputs": [],
   "source": [
    "import numpy as np"
   ]
  },
  {
   "cell_type": "code",
   "execution_count": 81,
   "id": "7be89522",
   "metadata": {},
   "outputs": [
    {
     "data": {
      "text/plain": [
       "14325870"
      ]
     },
     "execution_count": 81,
     "metadata": {},
     "output_type": "execute_result"
    }
   ],
   "source": [
    "len(np.unique(fid_arr.flatten()))"
   ]
  },
  {
   "cell_type": "code",
   "execution_count": 82,
   "id": "69c403e1",
   "metadata": {},
   "outputs": [
    {
     "data": {
      "text/plain": [
       "array([   0,    1,    2, ..., 3367, 3368, 3369], dtype=int32)"
      ]
     },
     "execution_count": 82,
     "metadata": {},
     "output_type": "execute_result"
    }
   ],
   "source": [
    "fid_arr[0]"
   ]
  },
  {
   "cell_type": "code",
   "execution_count": 83,
   "id": "e531d61a",
   "metadata": {},
   "outputs": [],
   "source": [
    "import pandas as pd"
   ]
  },
  {
   "cell_type": "code",
   "execution_count": 84,
   "id": "1f2ca548",
   "metadata": {},
   "outputs": [
    {
     "name": "stdout",
     "output_type": "stream",
     "text": [
      "14325870\n",
      "   row_loc  col_loc  fid  tile\n",
      "0        0        0    0     0\n",
      "1        0        1    1     0\n",
      "2        0        2    2     0\n",
      "3        0        3    3     0\n",
      "4        0        4    4     0\n"
     ]
    }
   ],
   "source": [
    "# NOTE: Code slice being replaced has col_loc starting at 1 and fid starting at 1\n",
    "df = pd.DataFrame(\n",
    "    list(np.ndindex((fid_arr.shape[0],\n",
    "    fid_arr.shape[1]))), columns =['row_loc', 'col_loc']\n",
    ")\n",
    "df[\"fid\"] = fid_arr.flatten().astype(int)\n",
    "df[\"tile\"] = 0\n",
    "print(len(df))\n",
    "print(df.head())"
   ]
  },
  {
   "cell_type": "code",
   "execution_count": 85,
   "id": "639bf51b",
   "metadata": {},
   "outputs": [
    {
     "name": "stdout",
     "output_type": "stream",
     "text": [
      "14325870\n",
      "(14325870, 3)\n",
      "Index(['row_loc', 'col_loc', 'fid', 'tile'], dtype='object')\n"
     ]
    },
    {
     "data": {
      "text/html": [
       "<div>\n",
       "<style scoped>\n",
       "    .dataframe tbody tr th:only-of-type {\n",
       "        vertical-align: middle;\n",
       "    }\n",
       "\n",
       "    .dataframe tbody tr th {\n",
       "        vertical-align: top;\n",
       "    }\n",
       "\n",
       "    .dataframe thead th {\n",
       "        text-align: right;\n",
       "    }\n",
       "</style>\n",
       "<table border=\"1\" class=\"dataframe\">\n",
       "  <thead>\n",
       "    <tr style=\"text-align: right;\">\n",
       "      <th></th>\n",
       "      <th>row_loc</th>\n",
       "      <th>col_loc</th>\n",
       "      <th>fid</th>\n",
       "      <th>tile</th>\n",
       "    </tr>\n",
       "  </thead>\n",
       "  <tbody>\n",
       "    <tr>\n",
       "      <th>0</th>\n",
       "      <td>0</td>\n",
       "      <td>0</td>\n",
       "      <td>0</td>\n",
       "      <td>0</td>\n",
       "    </tr>\n",
       "    <tr>\n",
       "      <th>1</th>\n",
       "      <td>0</td>\n",
       "      <td>1</td>\n",
       "      <td>1</td>\n",
       "      <td>0</td>\n",
       "    </tr>\n",
       "    <tr>\n",
       "      <th>2</th>\n",
       "      <td>0</td>\n",
       "      <td>2</td>\n",
       "      <td>2</td>\n",
       "      <td>0</td>\n",
       "    </tr>\n",
       "    <tr>\n",
       "      <th>3</th>\n",
       "      <td>0</td>\n",
       "      <td>3</td>\n",
       "      <td>3</td>\n",
       "      <td>0</td>\n",
       "    </tr>\n",
       "    <tr>\n",
       "      <th>4</th>\n",
       "      <td>0</td>\n",
       "      <td>4</td>\n",
       "      <td>4</td>\n",
       "      <td>0</td>\n",
       "    </tr>\n",
       "  </tbody>\n",
       "</table>\n",
       "</div>"
      ],
      "text/plain": [
       "   row_loc  col_loc  fid  tile\n",
       "0        0        0    0     0\n",
       "1        0        1    1     0\n",
       "2        0        2    2     0\n",
       "3        0        3    3     0\n",
       "4        0        4    4     0"
      ]
     },
     "execution_count": 85,
     "metadata": {},
     "output_type": "execute_result"
    }
   ],
   "source": [
    "print(len(df))\n",
    "print(df.groupby('fid').count().shape)\n",
    "print(df.columns)\n",
    "df.head()"
   ]
  },
  {
   "cell_type": "code",
   "execution_count": 86,
   "id": "bc182f5d",
   "metadata": {
    "scrolled": true
   },
   "outputs": [
    {
     "name": "stdout",
     "output_type": "stream",
     "text": [
      "2019-11-27 00:00:00\n",
      "B02 11272019\n",
      "__________(4251, 3370)\n",
      "B03 11272019\n",
      "__________(4251, 3370)\n",
      "B04 11272019\n",
      "__________(4251, 3370)\n",
      "B08 11272019\n",
      "__________(4251, 3370)\n"
     ]
    }
   ],
   "source": [
    "tile = 0\n",
    "d = datetime.datetime(2019,11,27)\n",
    "\n",
    "print(str(d))\n",
    "t = '0' + str(tile)\n",
    "for b in bands: # 3) For each band\n",
    "    print(b,  d.strftime(\"%m%d%Y\"))\n",
    "    col_name = d.strftime(\"%Y%m%d\") + '_' + b\n",
    "\n",
    "    # if tile == 0:\n",
    "    # If the column doesn't exist, create it and populate with 0s\n",
    "    if col_name not in df.columns:\n",
    "        df[col_name] = 0\n",
    "\n",
    "#             Load im\n",
    "    try:\n",
    "        im = load_file(f\"data/{t}/{d.strftime('%Y%m%d')}/{t[1]}_{b}_{d.strftime('%Y%m%d')}.tif\")\n",
    "        print(f\"__________{im.shape}\")\n",
    "    except FileNotFoundError:\n",
    "        continue\n",
    "\n",
    "    # NOTE: Pixel values are added accoriding to tile position in original.\n",
    "    # Since it's one tile, df.loc[df.tile == tile][['row_loc', 'col_loc']].values\n",
    "    # will return all row_loc and col_loc ptns of the df. so im.flatten and assign can replace this\n",
    "    df[col_name] = im.flatten().astype(int)"
   ]
  },
  {
   "cell_type": "code",
   "execution_count": 87,
   "id": "efd0f184",
   "metadata": {
    "scrolled": true
   },
   "outputs": [
    {
     "data": {
      "text/html": [
       "<div>\n",
       "<style scoped>\n",
       "    .dataframe tbody tr th:only-of-type {\n",
       "        vertical-align: middle;\n",
       "    }\n",
       "\n",
       "    .dataframe tbody tr th {\n",
       "        vertical-align: top;\n",
       "    }\n",
       "\n",
       "    .dataframe thead th {\n",
       "        text-align: right;\n",
       "    }\n",
       "</style>\n",
       "<table border=\"1\" class=\"dataframe\">\n",
       "  <thead>\n",
       "    <tr style=\"text-align: right;\">\n",
       "      <th></th>\n",
       "      <th>row_loc</th>\n",
       "      <th>col_loc</th>\n",
       "      <th>fid</th>\n",
       "      <th>tile</th>\n",
       "      <th>20191127_B02</th>\n",
       "      <th>20191127_B03</th>\n",
       "      <th>20191127_B04</th>\n",
       "      <th>20191127_B08</th>\n",
       "    </tr>\n",
       "  </thead>\n",
       "  <tbody>\n",
       "    <tr>\n",
       "      <th>0</th>\n",
       "      <td>0</td>\n",
       "      <td>0</td>\n",
       "      <td>0</td>\n",
       "      <td>0</td>\n",
       "      <td>0</td>\n",
       "      <td>0</td>\n",
       "      <td>0</td>\n",
       "      <td>0</td>\n",
       "    </tr>\n",
       "    <tr>\n",
       "      <th>1</th>\n",
       "      <td>0</td>\n",
       "      <td>1</td>\n",
       "      <td>1</td>\n",
       "      <td>0</td>\n",
       "      <td>0</td>\n",
       "      <td>0</td>\n",
       "      <td>0</td>\n",
       "      <td>0</td>\n",
       "    </tr>\n",
       "    <tr>\n",
       "      <th>2</th>\n",
       "      <td>0</td>\n",
       "      <td>2</td>\n",
       "      <td>2</td>\n",
       "      <td>0</td>\n",
       "      <td>0</td>\n",
       "      <td>0</td>\n",
       "      <td>0</td>\n",
       "      <td>0</td>\n",
       "    </tr>\n",
       "    <tr>\n",
       "      <th>3</th>\n",
       "      <td>0</td>\n",
       "      <td>3</td>\n",
       "      <td>3</td>\n",
       "      <td>0</td>\n",
       "      <td>0</td>\n",
       "      <td>0</td>\n",
       "      <td>0</td>\n",
       "      <td>0</td>\n",
       "    </tr>\n",
       "    <tr>\n",
       "      <th>4</th>\n",
       "      <td>0</td>\n",
       "      <td>4</td>\n",
       "      <td>4</td>\n",
       "      <td>0</td>\n",
       "      <td>0</td>\n",
       "      <td>0</td>\n",
       "      <td>0</td>\n",
       "      <td>0</td>\n",
       "    </tr>\n",
       "  </tbody>\n",
       "</table>\n",
       "</div>"
      ],
      "text/plain": [
       "   row_loc  col_loc  fid  tile  20191127_B02  20191127_B03  20191127_B04  \\\n",
       "0        0        0    0     0             0             0             0   \n",
       "1        0        1    1     0             0             0             0   \n",
       "2        0        2    2     0             0             0             0   \n",
       "3        0        3    3     0             0             0             0   \n",
       "4        0        4    4     0             0             0             0   \n",
       "\n",
       "   20191127_B08  \n",
       "0             0  \n",
       "1             0  \n",
       "2             0  \n",
       "3             0  \n",
       "4             0  "
      ]
     },
     "execution_count": 87,
     "metadata": {},
     "output_type": "execute_result"
    }
   ],
   "source": [
    "df.head()"
   ]
  },
  {
   "cell_type": "code",
   "execution_count": 88,
   "id": "322c8b75",
   "metadata": {},
   "outputs": [],
   "source": [
    "# import pandas as pd\n",
    "# df = pd.read_csv('Trias_data_20200207.csv')"
   ]
  },
  {
   "cell_type": "code",
   "execution_count": 89,
   "id": "7f7508c2",
   "metadata": {
    "scrolled": false
   },
   "outputs": [
    {
     "data": {
      "text/html": [
       "<div>\n",
       "<style scoped>\n",
       "    .dataframe tbody tr th:only-of-type {\n",
       "        vertical-align: middle;\n",
       "    }\n",
       "\n",
       "    .dataframe tbody tr th {\n",
       "        vertical-align: top;\n",
       "    }\n",
       "\n",
       "    .dataframe thead th {\n",
       "        text-align: right;\n",
       "    }\n",
       "</style>\n",
       "<table border=\"1\" class=\"dataframe\">\n",
       "  <thead>\n",
       "    <tr style=\"text-align: right;\">\n",
       "      <th></th>\n",
       "      <th>row_loc</th>\n",
       "      <th>col_loc</th>\n",
       "      <th>fid</th>\n",
       "      <th>tile</th>\n",
       "      <th>20191127_B02</th>\n",
       "      <th>20191127_B03</th>\n",
       "      <th>20191127_B04</th>\n",
       "      <th>20191127_B08</th>\n",
       "    </tr>\n",
       "  </thead>\n",
       "  <tbody>\n",
       "    <tr>\n",
       "      <th>2000001</th>\n",
       "      <td>593</td>\n",
       "      <td>1591</td>\n",
       "      <td>2000001</td>\n",
       "      <td>0</td>\n",
       "      <td>10</td>\n",
       "      <td>18</td>\n",
       "      <td>21</td>\n",
       "      <td>60</td>\n",
       "    </tr>\n",
       "    <tr>\n",
       "      <th>2000002</th>\n",
       "      <td>593</td>\n",
       "      <td>1592</td>\n",
       "      <td>2000002</td>\n",
       "      <td>0</td>\n",
       "      <td>10</td>\n",
       "      <td>18</td>\n",
       "      <td>21</td>\n",
       "      <td>60</td>\n",
       "    </tr>\n",
       "    <tr>\n",
       "      <th>2000003</th>\n",
       "      <td>593</td>\n",
       "      <td>1593</td>\n",
       "      <td>2000003</td>\n",
       "      <td>0</td>\n",
       "      <td>11</td>\n",
       "      <td>20</td>\n",
       "      <td>24</td>\n",
       "      <td>62</td>\n",
       "    </tr>\n",
       "    <tr>\n",
       "      <th>2000004</th>\n",
       "      <td>593</td>\n",
       "      <td>1594</td>\n",
       "      <td>2000004</td>\n",
       "      <td>0</td>\n",
       "      <td>10</td>\n",
       "      <td>20</td>\n",
       "      <td>23</td>\n",
       "      <td>63</td>\n",
       "    </tr>\n",
       "    <tr>\n",
       "      <th>2000005</th>\n",
       "      <td>593</td>\n",
       "      <td>1595</td>\n",
       "      <td>2000005</td>\n",
       "      <td>0</td>\n",
       "      <td>11</td>\n",
       "      <td>18</td>\n",
       "      <td>23</td>\n",
       "      <td>60</td>\n",
       "    </tr>\n",
       "  </tbody>\n",
       "</table>\n",
       "</div>"
      ],
      "text/plain": [
       "         row_loc  col_loc      fid  tile  20191127_B02  20191127_B03  \\\n",
       "2000001      593     1591  2000001     0            10            18   \n",
       "2000002      593     1592  2000002     0            10            18   \n",
       "2000003      593     1593  2000003     0            11            20   \n",
       "2000004      593     1594  2000004     0            10            20   \n",
       "2000005      593     1595  2000005     0            11            18   \n",
       "\n",
       "         20191127_B04  20191127_B08  \n",
       "2000001            21            60  \n",
       "2000002            21            60  \n",
       "2000003            24            62  \n",
       "2000004            23            63  \n",
       "2000005            23            60  "
      ]
     },
     "execution_count": 89,
     "metadata": {},
     "output_type": "execute_result"
    }
   ],
   "source": [
    "df1 = df.query('fid > 2000000')\n",
    "# new_df.to_csv('NDVI_mean_Classification_aoi5.csv')\n",
    "df1.head()"
   ]
  },
  {
   "cell_type": "code",
   "execution_count": 90,
   "id": "85da9c01",
   "metadata": {
    "scrolled": true
   },
   "outputs": [],
   "source": [
    "df.to_csv('Farm_Africa_data_20191127.csv', index=False)"
   ]
  },
  {
   "cell_type": "code",
   "execution_count": null,
   "id": "98cc3a86",
   "metadata": {},
   "outputs": [],
   "source": []
  }
 ],
 "metadata": {
  "kernelspec": {
   "display_name": "Python 3 (ipykernel)",
   "language": "python",
   "name": "python3"
  },
  "language_info": {
   "codemirror_mode": {
    "name": "ipython",
    "version": 3
   },
   "file_extension": ".py",
   "mimetype": "text/x-python",
   "name": "python",
   "nbconvert_exporter": "python",
   "pygments_lexer": "ipython3",
   "version": "3.9.6"
  }
 },
 "nbformat": 4,
 "nbformat_minor": 5
}
