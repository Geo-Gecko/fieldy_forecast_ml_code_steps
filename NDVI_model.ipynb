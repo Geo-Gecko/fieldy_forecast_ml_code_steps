{
 "cells": [
  {
   "cell_type": "code",
   "execution_count": 1,
   "id": "105a76a2",
   "metadata": {},
   "outputs": [
    {
     "name": "stderr",
     "output_type": "stream",
     "text": [
      "2022-03-30 12:10:53.572161: W tensorflow/stream_executor/platform/default/dso_loader.cc:64] Could not load dynamic library 'libcudart.so.11.0'; dlerror: libcudart.so.11.0: cannot open shared object file: No such file or directory\n",
      "2022-03-30 12:10:53.572207: I tensorflow/stream_executor/cuda/cudart_stub.cc:29] Ignore above cudart dlerror if you do not have a GPU set up on your machine.\n"
     ]
    }
   ],
   "source": [
    "import os\n",
    "\n",
    "import numpy as np\n",
    "import pandas as pd\n",
    "import tensorflow_hub as hub\n",
    "from google.cloud import storage\n",
    "from tensorflow.keras.models import model_from_json"
   ]
  },
  {
   "cell_type": "code",
   "execution_count": 2,
   "id": "440e9a06",
   "metadata": {},
   "outputs": [],
   "source": [
    "\n",
    "client = storage.Client()\n",
    "\n",
    "# modelName = \"GG_model_20211013_6\"\n",
    "# json_file = open(f\"{modelName}.json\", \"r\")\n",
    "# loaded_model_json = json_file.read()\n",
    "# json_file.close()\n",
    "# model = model_from_json(loaded_model_json, custom_objects={'KerasLayer': hub.KerasLayer})\n",
    "# model.load_weights(f\"{modelName}_bestweights.hdf5\")\n"
   ]
  },
  {
   "cell_type": "code",
   "execution_count": 10,
   "id": "2e476438",
   "metadata": {},
   "outputs": [],
   "source": [
    "files = []\n",
    "# bucket_name/cashews/Benin_Largearea/benin_prediction_fid_folder\n",
    "for blob in client.list_blobs(\n",
    "    'bucket_name', prefix='seasonal_crops_farm_Africa_data/joined_csvs/Farm_Africa_joined_2018_'\n",
    "):\n",
    "    files.append(blob.name)\n",
    "    "
   ]
  },
  {
   "cell_type": "code",
   "execution_count": 13,
   "id": "954f9af8",
   "metadata": {},
   "outputs": [
    {
     "name": "stdout",
     "output_type": "stream",
     "text": [
      "Farm_Africa_joined_2018_000000000000.csv\n",
      "0\n",
      "File Farm_Africa_joined_2018_000000000000.csv already on machine\n",
      "0          0.020995\n",
      "1          0.054268\n",
      "2          0.117507\n",
      "3          0.076917\n",
      "4          0.000000\n",
      "             ...   \n",
      "1793443    0.085949\n",
      "1793444    0.075375\n",
      "1793445    0.057328\n",
      "1793446    0.224558\n",
      "1793447    0.104125\n",
      "Name: NDVI_stand_dev, Length: 1793448, dtype: float64\n",
      "Farm_Africa_joined_2018_000000000001.csv\n",
      "1\n"
     ]
    },
    {
     "name": "stderr",
     "output_type": "stream",
     "text": [
      "Copying gs://short-term-storage-gecko-bucket/seasonal_crops_farm_Africa_data/joined_csvs/Farm_Africa_joined_2018_000000000001.csv...\n",
      "==> NOTE: You are downloading one or more large file(s), which would            \n",
      "run significantly faster if you enabled sliced object downloads. This\n",
      "feature is enabled by default but requires that compiled crcmod be\n",
      "installed (see \"gsutil help crcmod\").\n",
      "\n",
      "\\ [1 files][189.2 MiB/189.2 MiB]                                                \n",
      "Operation completed over 1 objects/189.2 MiB.                                    \n"
     ]
    },
    {
     "name": "stdout",
     "output_type": "stream",
     "text": [
      "0          0.000000\n",
      "1          0.000000\n",
      "2          0.000000\n",
      "3          0.018617\n",
      "4          0.000000\n",
      "             ...   \n",
      "1790386    0.227894\n",
      "1790387    0.133258\n",
      "1790388    0.142916\n",
      "1790389    0.124207\n",
      "1790390    0.128476\n",
      "Name: NDVI_stand_dev, Length: 1790391, dtype: float64\n",
      "Farm_Africa_joined_2018_000000000002.csv\n",
      "2\n"
     ]
    },
    {
     "name": "stderr",
     "output_type": "stream",
     "text": [
      "Copying gs://short-term-storage-gecko-bucket/seasonal_crops_farm_Africa_data/joined_csvs/Farm_Africa_joined_2018_000000000002.csv...\n",
      "==> NOTE: You are downloading one or more large file(s), which would            \n",
      "run significantly faster if you enabled sliced object downloads. This\n",
      "feature is enabled by default but requires that compiled crcmod be\n",
      "installed (see \"gsutil help crcmod\").\n",
      "\n",
      "\\ [1 files][188.9 MiB/188.9 MiB]                                                \n",
      "Operation completed over 1 objects/188.9 MiB.                                    \n"
     ]
    },
    {
     "name": "stdout",
     "output_type": "stream",
     "text": [
      "0          0.056113\n",
      "1          0.055373\n",
      "2          0.058487\n",
      "3          0.153425\n",
      "4          0.000000\n",
      "             ...   \n",
      "1787903    0.226788\n",
      "1787904    0.067382\n",
      "1787905    0.129135\n",
      "1787906    0.234682\n",
      "1787907    0.142201\n",
      "Name: NDVI_stand_dev, Length: 1787908, dtype: float64\n",
      "Farm_Africa_joined_2018_000000000003.csv\n",
      "3\n"
     ]
    },
    {
     "name": "stderr",
     "output_type": "stream",
     "text": [
      "Copying gs://short-term-storage-gecko-bucket/seasonal_crops_farm_Africa_data/joined_csvs/Farm_Africa_joined_2018_000000000003.csv...\n",
      "==> NOTE: You are downloading one or more large file(s), which would            \n",
      "run significantly faster if you enabled sliced object downloads. This\n",
      "feature is enabled by default but requires that compiled crcmod be\n",
      "installed (see \"gsutil help crcmod\").\n",
      "\n",
      "| [1 files][189.4 MiB/189.4 MiB]                                                \n",
      "Operation completed over 1 objects/189.4 MiB.                                    \n"
     ]
    },
    {
     "name": "stdout",
     "output_type": "stream",
     "text": [
      "0          0.000000\n",
      "1          0.048376\n",
      "2          0.192502\n",
      "3          0.000000\n",
      "4          0.000000\n",
      "             ...   \n",
      "1792526    0.134832\n",
      "1792527    0.161420\n",
      "1792528    0.126608\n",
      "1792529    0.134315\n",
      "1792530    0.117852\n",
      "Name: NDVI_stand_dev, Length: 1792531, dtype: float64\n",
      "Farm_Africa_joined_2018_000000000004.csv\n",
      "4\n"
     ]
    },
    {
     "name": "stderr",
     "output_type": "stream",
     "text": [
      "Copying gs://short-term-storage-gecko-bucket/seasonal_crops_farm_Africa_data/joined_csvs/Farm_Africa_joined_2018_000000000004.csv...\n",
      "==> NOTE: You are downloading one or more large file(s), which would            \n",
      "run significantly faster if you enabled sliced object downloads. This\n",
      "feature is enabled by default but requires that compiled crcmod be\n",
      "installed (see \"gsutil help crcmod\").\n",
      "\n",
      "\\ [1 files][189.0 MiB/189.0 MiB]                                                \n",
      "Operation completed over 1 objects/189.0 MiB.                                    \n"
     ]
    },
    {
     "name": "stdout",
     "output_type": "stream",
     "text": [
      "0          0.000000\n",
      "1          0.000000\n",
      "2          0.068501\n",
      "3          0.000000\n",
      "4          0.000000\n",
      "             ...   \n",
      "1789261    0.188505\n",
      "1789262    0.085793\n",
      "1789263    0.209648\n",
      "1789264    0.160218\n",
      "1789265    0.105972\n",
      "Name: NDVI_stand_dev, Length: 1789266, dtype: float64\n",
      "Farm_Africa_joined_2018_000000000005.csv\n",
      "5\n"
     ]
    },
    {
     "name": "stderr",
     "output_type": "stream",
     "text": [
      "Copying gs://short-term-storage-gecko-bucket/seasonal_crops_farm_Africa_data/joined_csvs/Farm_Africa_joined_2018_000000000005.csv...\n",
      "==> NOTE: You are downloading one or more large file(s), which would            \n",
      "run significantly faster if you enabled sliced object downloads. This\n",
      "feature is enabled by default but requires that compiled crcmod be\n",
      "installed (see \"gsutil help crcmod\").\n",
      "\n",
      "| [1 files][189.1 MiB/189.1 MiB]                                                \n",
      "Operation completed over 1 objects/189.1 MiB.                                    \n"
     ]
    },
    {
     "name": "stdout",
     "output_type": "stream",
     "text": [
      "0          0.185981\n",
      "1          0.000000\n",
      "2          0.033385\n",
      "3          0.092040\n",
      "4          0.053554\n",
      "             ...   \n",
      "1789596    0.161256\n",
      "1789597    0.144789\n",
      "1789598    0.109717\n",
      "1789599    0.123973\n",
      "1789600    0.156148\n",
      "Name: NDVI_stand_dev, Length: 1789601, dtype: float64\n",
      "Farm_Africa_joined_2018_000000000006.csv\n",
      "6\n"
     ]
    },
    {
     "name": "stderr",
     "output_type": "stream",
     "text": [
      "Copying gs://short-term-storage-gecko-bucket/seasonal_crops_farm_Africa_data/joined_csvs/Farm_Africa_joined_2018_000000000006.csv...\n",
      "==> NOTE: You are downloading one or more large file(s), which would            \n",
      "run significantly faster if you enabled sliced object downloads. This\n",
      "feature is enabled by default but requires that compiled crcmod be\n",
      "installed (see \"gsutil help crcmod\").\n",
      "\n",
      "| [1 files][189.4 MiB/189.4 MiB]                                                \n",
      "Operation completed over 1 objects/189.4 MiB.                                    \n"
     ]
    },
    {
     "name": "stdout",
     "output_type": "stream",
     "text": [
      "0          0.067055\n",
      "1          0.102529\n",
      "2          0.059288\n",
      "3          0.135500\n",
      "4          0.219735\n",
      "             ...   \n",
      "1792495    0.199444\n",
      "1792496    0.133577\n",
      "1792497    0.126185\n",
      "1792498    0.144810\n",
      "1792499    0.106238\n",
      "Name: NDVI_stand_dev, Length: 1792500, dtype: float64\n",
      "Farm_Africa_joined_2018_000000000007.csv\n",
      "7\n"
     ]
    },
    {
     "name": "stderr",
     "output_type": "stream",
     "text": [
      "Copying gs://short-term-storage-gecko-bucket/seasonal_crops_farm_Africa_data/joined_csvs/Farm_Africa_joined_2018_000000000007.csv...\n",
      "==> NOTE: You are downloading one or more large file(s), which would            \n",
      "run significantly faster if you enabled sliced object downloads. This\n",
      "feature is enabled by default but requires that compiled crcmod be\n",
      "installed (see \"gsutil help crcmod\").\n",
      "\n",
      "\\ [1 files][189.1 MiB/189.1 MiB]                                                \n",
      "Operation completed over 1 objects/189.1 MiB.                                    \n"
     ]
    },
    {
     "name": "stdout",
     "output_type": "stream",
     "text": [
      "0          0.000000\n",
      "1          0.000000\n",
      "2          0.000000\n",
      "3          0.000000\n",
      "4          0.000000\n",
      "             ...   \n",
      "1790220    0.125552\n",
      "1790221    0.181612\n",
      "1790222    0.106721\n",
      "1790223    0.172593\n",
      "1790224    0.098919\n",
      "Name: NDVI_stand_dev, Length: 1790225, dtype: float64\n"
     ]
    }
   ],
   "source": [
    "for file_ in files:\n",
    "    file_name = file_.split(\"/\")[-1]\n",
    "    print (file_name)\n",
    "    fn = int(file_name.split(\"_\")[-1].split(\".\")[0])\n",
    "    print (fn)\n",
    "    if fn in range(70):\n",
    "        if not os.path.isfile(file_name):\n",
    "            os.system(f\"gsutil cp gs://bucket_name/{file_} .\")\n",
    "        else:\n",
    "            print(f\"File {file_name} already on machine\")\n",
    "\n",
    "        df = pd.read_csv(file_name)\n",
    "#         data_df = df.drop(columns=[\"row_loc\",\"col_loc\", \"tile\", \"fid\"])\n",
    "        for i in range(8) :\n",
    "            B08_features =  df.filter(regex='._B08')\n",
    "            B08_features_col = B08_features.columns\n",
    "#         print(B8A_features_col)\n",
    "            B04_features =  df.filter(regex='._B04')\n",
    "            B04_features_col = B04_features.columns\n",
    "            NDVI = []\n",
    "            NDVI.append('NDVI_{}'.format(i))\n",
    "            B08 = '{}'.format(B08_features_col[i])\n",
    "            B04 = '{}'.format(B04_features_col[i])\n",
    "            new_df = ((df[B08]-df[B04])/(df[B08]+df[B04]))\n",
    "            df['NDVI_{}'.format(i)] = (df[B08]-df[B04])/(df[B08]+df[B04])\n",
    "            df['NDVI_{}'.format(i)] = df['NDVI_{}'.format(i)].fillna(0.000001)\n",
    "            \n",
    "#           Nomormalise the data\n",
    "#             df['NDVI_Standardise_{}'.format(i)] = ((df['NDVI_{}'.format(i)]-(-0.3991874))/(0.9409440-(-0.3991874))*1)\n",
    "#             df['NDVI_Standardise_{}'.format(i)] = df['NDVI_Standardise_{}'.format(i)].fillna(0.000001)\n",
    "#         test_data = data_df.to_numpy()\n",
    "#         max_value = test_data.max()\n",
    "#         test_data = test_data / max_value\n",
    "#         test_data = np.reshape(test_data, (test_data.shape[0], int(test_data.shape[1]/12), 12))\n",
    "\n",
    "#         predictions = model.predict(test_data, verbose=1)\n",
    "\n",
    "#         pred_df = pd.DataFrame(predictions)\n",
    "#         pred_df[\"predicted_class\"] = pred_df.idxmax(axis=1)\n",
    "#         pred_df[[\"row_loc\",\"col_loc\",\"tile\"]] = df[[\"row_loc\",\"col_loc\",\"tile\"]].reset_index(drop=True).astype(int)\n",
    "        \n",
    "    \n",
    "#     Calculating standard deviation\n",
    "        df['NDVI_stand_dev'] = df[['NDVI_0', 'NDVI_1', 'NDVI_2', 'NDVI_3', 'NDVI_4', 'NDVI_5', 'NDVI_6', 'NDVI_7']].std(axis=1)\n",
    "        print (df['NDVI_stand_dev'])\n",
    "    \n",
    "#         df_veg['NDVI_change'] = (1-((df_veg['NDVI_0'])/(df_veg['NDVI_1'])))\n",
    "# df['NDVI_{}'.format(i)] = df['NDVI_{}'.format(i)].fillna(0.000001)\n",
    "\n",
    "# df['non_vegetation'] = df['NDVI_change'].apply(lambda x :1 if x<0.199 else 0)\n",
    "        df['seasonal_crops'] = df['NDVI_stand_dev'].apply(lambda x :1 if (0.1<x<0.3) else 0)\n",
    "# df['high_vegetation'] = df['NDVI_change'].apply(lambda x :1 if x>=0.501 else 0)\n",
    "#         df_veg.head()\n",
    "#         df1 = df.query('fid > 200000000')\n",
    "        df = df.drop(columns=[ '_20180116_B02', '_20180116_B03',\n",
    "       '_20180116_B04', '_20180116_B08', '_20180215_B02', '_20180215_B03',\n",
    "       '_20180215_B04', '_20180215_B08', '_20180322_B02', '_20180322_B03',\n",
    "       '_20180322_B04', '_20180322_B08', '_20180511_B02', '_20180511_B03',\n",
    "       '_20180511_B04', '_20180511_B08', '_20180720_B02', '_20180720_B03',\n",
    "       '_20180720_B04', '_20180720_B08', '_20180923_B02', '_20180923_B03',\n",
    "       '_20180923_B04', '_20180923_B08', '_20181003_B02', '_20181003_B03',\n",
    "       '_20181003_B04', '_20181003_B08', '_20181227_B02', '_20181227_B03',\n",
    "       '_20181227_B04', '_20181227_B08' ])\n",
    "    \n",
    "        df.to_csv(f\"NDVI_csvs_2018/NDVI_2018_{file_name.split('_')[-1]}\", index=False)\n",
    "\n",
    "# new_df.to_csv('NDVI_mean_Classification_aoi5.csv')\n",
    "        \n",
    "#         print(f\"{file_name} already worked on\")\n",
    "\n",
    "        # empty variables\n",
    "        del df\n",
    "#         del test_data\n",
    "#         del pred_df\n",
    "\n",
    "        os.system(f\"rm {file_name}\")\n",
    "    else:\n",
    "        print(f\"{file_name} already worked on\")\n",
    "\n",
    "# \"\"\"\n",
    "# # NOTE: Join generated csvs\n",
    "# files_ = os.listdir(\"prediction_csvs\")\n",
    "# files_.sort()\n",
    "# dfs = [pd.read_csv(f\"prediction_csvs/{f_}\") for f_ in files_]\n",
    "# df = pd.concat(dfs, ignore_index=True)\n",
    "# print(f\"Check generated unique classes {df['predicted_class'].unique()}\")\n",
    "# df.to_csv(\"benin_prediction_tile.csv\", index=False)\n",
    "# \"\"\"\n"
   ]
  },
  {
   "cell_type": "code",
   "execution_count": 8,
   "id": "225c55fc",
   "metadata": {
    "scrolled": true
   },
   "outputs": [
    {
     "data": {
      "text/html": [
       "<div>\n",
       "<style scoped>\n",
       "    .dataframe tbody tr th:only-of-type {\n",
       "        vertical-align: middle;\n",
       "    }\n",
       "\n",
       "    .dataframe tbody tr th {\n",
       "        vertical-align: top;\n",
       "    }\n",
       "\n",
       "    .dataframe thead th {\n",
       "        text-align: right;\n",
       "    }\n",
       "</style>\n",
       "<table border=\"1\" class=\"dataframe\">\n",
       "  <thead>\n",
       "    <tr style=\"text-align: right;\">\n",
       "      <th></th>\n",
       "      <th>row_loc</th>\n",
       "      <th>col_loc</th>\n",
       "      <th>tile</th>\n",
       "      <th>fid</th>\n",
       "      <th>NDVI_0</th>\n",
       "      <th>NDVI_1</th>\n",
       "      <th>NDVI_2</th>\n",
       "      <th>NDVI_3</th>\n",
       "      <th>NDVI_4</th>\n",
       "      <th>NDVI_5</th>\n",
       "      <th>NDVI_6</th>\n",
       "      <th>NDVI_7</th>\n",
       "      <th>NDVI_stand_dev</th>\n",
       "      <th>seasonal_crops</th>\n",
       "    </tr>\n",
       "  </thead>\n",
       "  <tbody>\n",
       "    <tr>\n",
       "      <th>0</th>\n",
       "      <td>1914</td>\n",
       "      <td>2724</td>\n",
       "      <td>0</td>\n",
       "      <td>6452904</td>\n",
       "      <td>0.052632</td>\n",
       "      <td>0.042553</td>\n",
       "      <td>0.057471</td>\n",
       "      <td>0.042735</td>\n",
       "      <td>0.039216</td>\n",
       "      <td>0.046729</td>\n",
       "      <td>0.043478</td>\n",
       "      <td>-0.010526</td>\n",
       "      <td>0.020995</td>\n",
       "      <td>0</td>\n",
       "    </tr>\n",
       "    <tr>\n",
       "      <th>1</th>\n",
       "      <td>1778</td>\n",
       "      <td>142</td>\n",
       "      <td>0</td>\n",
       "      <td>5992002</td>\n",
       "      <td>0.833333</td>\n",
       "      <td>0.872340</td>\n",
       "      <td>0.859155</td>\n",
       "      <td>0.885714</td>\n",
       "      <td>0.735294</td>\n",
       "      <td>0.857143</td>\n",
       "      <td>0.916667</td>\n",
       "      <td>0.882353</td>\n",
       "      <td>0.054268</td>\n",
       "      <td>1</td>\n",
       "    </tr>\n",
       "    <tr>\n",
       "      <th>2</th>\n",
       "      <td>1757</td>\n",
       "      <td>38</td>\n",
       "      <td>0</td>\n",
       "      <td>5921128</td>\n",
       "      <td>0.846154</td>\n",
       "      <td>0.822222</td>\n",
       "      <td>0.826087</td>\n",
       "      <td>0.909091</td>\n",
       "      <td>0.534247</td>\n",
       "      <td>0.838710</td>\n",
       "      <td>0.873016</td>\n",
       "      <td>0.877551</td>\n",
       "      <td>0.117507</td>\n",
       "      <td>1</td>\n",
       "    </tr>\n",
       "    <tr>\n",
       "      <th>3</th>\n",
       "      <td>3481</td>\n",
       "      <td>2008</td>\n",
       "      <td>0</td>\n",
       "      <td>11732978</td>\n",
       "      <td>0.150943</td>\n",
       "      <td>0.128205</td>\n",
       "      <td>0.240000</td>\n",
       "      <td>0.254545</td>\n",
       "      <td>0.280702</td>\n",
       "      <td>0.356522</td>\n",
       "      <td>0.315789</td>\n",
       "      <td>0.257732</td>\n",
       "      <td>0.076917</td>\n",
       "      <td>1</td>\n",
       "    </tr>\n",
       "    <tr>\n",
       "      <th>4</th>\n",
       "      <td>3325</td>\n",
       "      <td>3366</td>\n",
       "      <td>0</td>\n",
       "      <td>11208616</td>\n",
       "      <td>0.000001</td>\n",
       "      <td>0.000001</td>\n",
       "      <td>0.000001</td>\n",
       "      <td>0.000001</td>\n",
       "      <td>0.000001</td>\n",
       "      <td>0.000001</td>\n",
       "      <td>0.000001</td>\n",
       "      <td>0.000001</td>\n",
       "      <td>0.000000</td>\n",
       "      <td>0</td>\n",
       "    </tr>\n",
       "  </tbody>\n",
       "</table>\n",
       "</div>"
      ],
      "text/plain": [
       "   row_loc  col_loc  tile       fid    NDVI_0    NDVI_1    NDVI_2    NDVI_3  \\\n",
       "0     1914     2724     0   6452904  0.052632  0.042553  0.057471  0.042735   \n",
       "1     1778      142     0   5992002  0.833333  0.872340  0.859155  0.885714   \n",
       "2     1757       38     0   5921128  0.846154  0.822222  0.826087  0.909091   \n",
       "3     3481     2008     0  11732978  0.150943  0.128205  0.240000  0.254545   \n",
       "4     3325     3366     0  11208616  0.000001  0.000001  0.000001  0.000001   \n",
       "\n",
       "     NDVI_4    NDVI_5    NDVI_6    NDVI_7  NDVI_stand_dev  seasonal_crops  \n",
       "0  0.039216  0.046729  0.043478 -0.010526        0.020995               0  \n",
       "1  0.735294  0.857143  0.916667  0.882353        0.054268               1  \n",
       "2  0.534247  0.838710  0.873016  0.877551        0.117507               1  \n",
       "3  0.280702  0.356522  0.315789  0.257732        0.076917               1  \n",
       "4  0.000001  0.000001  0.000001  0.000001        0.000000               0  "
      ]
     },
     "execution_count": 8,
     "metadata": {},
     "output_type": "execute_result"
    }
   ],
   "source": [
    "df.head()"
   ]
  },
  {
   "cell_type": "code",
   "execution_count": 12,
   "id": "b8adb404",
   "metadata": {
    "scrolled": false
   },
   "outputs": [
    {
     "data": {
      "text/plain": [
       "Index(['row_loc', 'col_loc', 'tile', 'fid', '_20180116_B02', '_20180116_B03',\n",
       "       '_20180116_B04', '_20180116_B08', '_20180215_B02', '_20180215_B03',\n",
       "       '_20180215_B04', '_20180215_B08', '_20180322_B02', '_20180322_B03',\n",
       "       '_20180322_B04', '_20180322_B08', '_20180511_B02', '_20180511_B03',\n",
       "       '_20180511_B04', '_20180511_B08', '_20180720_B02', '_20180720_B03',\n",
       "       '_20180720_B04', '_20180720_B08', '_20180923_B02', '_20180923_B03',\n",
       "       '_20180923_B04', '_20180923_B08', '_20181003_B02', '_20181003_B03',\n",
       "       '_20181003_B04', '_20181003_B08', '_20181227_B02', '_20181227_B03',\n",
       "       '_20181227_B04', '_20181227_B08', 'NDVI_0', 'NDVI_1', 'NDVI_2',\n",
       "       'NDVI_3', 'NDVI_4', 'NDVI_5', 'NDVI_6', 'NDVI_7', 'NDVI_stand_dev',\n",
       "       'seasonal_crops'],\n",
       "      dtype='object')"
      ]
     },
     "execution_count": 12,
     "metadata": {},
     "output_type": "execute_result"
    }
   ],
   "source": [
    "df.columns"
   ]
  }
 ],
 "metadata": {
  "kernelspec": {
   "display_name": "Python 3 (ipykernel)",
   "language": "python",
   "name": "python3"
  },
  "language_info": {
   "codemirror_mode": {
    "name": "ipython",
    "version": 3
   },
   "file_extension": ".py",
   "mimetype": "text/x-python",
   "name": "python",
   "nbconvert_exporter": "python",
   "pygments_lexer": "ipython3",
   "version": "3.9.6"
  }
 },
 "nbformat": 4,
 "nbformat_minor": 5
}
