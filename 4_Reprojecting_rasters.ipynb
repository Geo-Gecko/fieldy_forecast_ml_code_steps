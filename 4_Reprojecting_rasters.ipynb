{
 "cells": [
  {
   "cell_type": "markdown",
   "id": "c179866b",
   "metadata": {},
   "source": [
    "# Description\n",
    "This script's purpose is to reproject the images.\n",
    "\n",
    "Reprojecting the image involves changing the coordinate system of the images from one coordinate system to another ."
   ]
  },
  {
   "cell_type": "code",
   "execution_count": null,
   "id": "79294d7d",
   "metadata": {},
   "outputs": [],
   "source": [
    "import rasterio\n",
    "from rasterio.warp import calculate_default_transform, reproject, Resampling\n",
    "import os"
   ]
  },
  {
   "cell_type": "code",
   "execution_count": null,
   "id": "bfd6c2b4",
   "metadata": {},
   "outputs": [],
   "source": [
    "#Defining the source and destination paths \n",
    "srcPath = '20200319/'\n",
    "dstPath = 'data/reprojected/20200319/'"
   ]
  },
  {
   "cell_type": "code",
   "execution_count": null,
   "id": "b817fd92",
   "metadata": {},
   "outputs": [],
   "source": [
    "#Obtaining a list of the available images \n",
    "lstRst = [band for band in os.listdir(srcPath) if band.endswith(\".tif\")]\n",
    "lstRst\n",
    "# len(lstRst)"
   ]
  },
  {
   "cell_type": "code",
   "execution_count": null,
   "id": "74dfa7d4",
   "metadata": {},
   "outputs": [],
   "source": [
    "#Opening the images and viewing their coordinate system  \n",
    "expRst = rasterio.open(srcPath + lstRst[0])\n",
    "expRst.crs"
   ]
  },
  {
   "cell_type": "code",
   "execution_count": null,
   "id": "cbd97d8d",
   "metadata": {},
   "outputs": [],
   "source": [
    "#Defining the coordinate system to convert to\n",
    "dstCrs = {'init': 'EPSG:32631'}"
   ]
  },
  {
   "cell_type": "code",
   "execution_count": null,
   "id": "7f8fdf64",
   "metadata": {},
   "outputs": [],
   "source": [
    "def reprojectRaster(srcRst, dstRst, dstCrs, srcPath, dstPath) :\n",
    "    srcRst = rasterio.open(srcPath + srcRst)\n",
    "\n",
    "    #calculate transform array and shape of reprojected raster\n",
    "    transform, width, height = calculate_default_transform(\n",
    "        srcRst.crs, dstCrs, srcRst.width, srcRst.height, *srcRst.bounds)\n",
    "    \n",
    "    # working of the meta for the destination raster\n",
    "    kwargs = srcRst.meta.copy()\n",
    "    kwargs.update({\n",
    "        'crs': dstCrs,\n",
    "        'transform': transform,\n",
    "        'width': width,\n",
    "        'height': height\n",
    "        })\n",
    "    \n",
    "    #open destination raster\n",
    "    dstRst = rasterio.open(dstPath + dstRst, 'w', **kwargs)\n",
    "    \n",
    "    #reproject and save raster band \n",
    "    for i in range (1, srcRst.count + 1):\n",
    "        reproject(\n",
    "            source=rasterio.band(srcRst, i),\n",
    "            destination=rasterio.band(dstRst, i),\n",
    "            #src_transform=srcRst.transform,\n",
    "            src_crs=srcRst.crs,\n",
    "            #dst_transform=transform,\n",
    "            dst_crs=dstCrs,\n",
    "            resampling=Resampling.nearest)\n",
    "    \n",
    "    #close destination raster\n",
    "    dstRst.close()\n",
    "    "
   ]
  },
  {
   "cell_type": "code",
   "execution_count": null,
   "id": "736a8315",
   "metadata": {},
   "outputs": [],
   "source": [
    "for srcRst in lstRst:\n",
    "    dstRst = \"reprojected_\" + srcRst[0:] \n",
    "    reprojectRaster(srcRst, dstRst, dstCrs, srcPath, dstPath)\n",
    "    print(\"Reprojection of %s done\"%srcRst)\n",
    "    "
   ]
  },
  {
   "cell_type": "code",
   "execution_count": null,
   "id": "9c67a825",
   "metadata": {},
   "outputs": [],
   "source": []
  }
 ],
 "metadata": {
  "kernelspec": {
   "display_name": "Python 3",
   "language": "python",
   "name": "python3"
  },
  "language_info": {
   "codemirror_mode": {
    "name": "ipython",
    "version": 3
   },
   "file_extension": ".py",
   "mimetype": "text/x-python",
   "name": "python",
   "nbconvert_exporter": "python",
   "pygments_lexer": "ipython3",
   "version": "3.9.2"
  }
 },
 "nbformat": 4,
 "nbformat_minor": 5
}
