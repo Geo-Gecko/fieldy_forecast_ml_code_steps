{
 "cells": [
  {
   "cell_type": "code",
   "execution_count": 1,
   "id": "34b40240",
   "metadata": {},
   "outputs": [],
   "source": [
    "from osgeo import gdal"
   ]
  },
  {
   "cell_type": "code",
   "execution_count": 2,
   "id": "2fd4c391",
   "metadata": {},
   "outputs": [],
   "source": [
    "step1 = gdal.Open('data/20180116/0_B02_20180116.tif', gdal.GA_ReadOnly)"
   ]
  },
  {
   "cell_type": "code",
   "execution_count": 3,
   "id": "fa48dca9",
   "metadata": {},
   "outputs": [],
   "source": [
    "GT_input = step1.GetGeoTransform()"
   ]
  },
  {
   "cell_type": "code",
   "execution_count": 4,
   "id": "ce8d6246",
   "metadata": {},
   "outputs": [
    {
     "name": "stdout",
     "output_type": "stream",
     "text": [
      "(693559.1091246363, 10.0, 0.0, 133265.48983932866, 0.0, -10.0)\n"
     ]
    }
   ],
   "source": [
    "print(GT_input)"
   ]
  },
  {
   "cell_type": "code",
   "execution_count": 6,
   "id": "3a1375ed",
   "metadata": {},
   "outputs": [],
   "source": [
    "from affine import Affine"
   ]
  },
  {
   "cell_type": "code",
   "execution_count": 7,
   "id": "88087fa6",
   "metadata": {},
   "outputs": [],
   "source": [
    "transf = (693559.1091246363, 10.0, 0.0, 133265.48983932866, 0.0, -10.0)\n",
    "afn = Affine.from_gdal(*transf)"
   ]
  },
  {
   "cell_type": "code",
   "execution_count": 8,
   "id": "1049661d",
   "metadata": {},
   "outputs": [],
   "source": [
    "step2 = step1.GetRasterBand(1)"
   ]
  },
  {
   "cell_type": "code",
   "execution_count": 9,
   "id": "002e609d",
   "metadata": {},
   "outputs": [],
   "source": [
    "img_as_array = step2.ReadAsArray()"
   ]
  },
  {
   "cell_type": "code",
   "execution_count": 10,
   "id": "f2087f0a",
   "metadata": {},
   "outputs": [],
   "source": [
    "x =img_as_array"
   ]
  },
  {
   "cell_type": "code",
   "execution_count": 11,
   "id": "496d1f0e",
   "metadata": {},
   "outputs": [],
   "source": [
    "size1,size2=img_as_array.shape"
   ]
  },
  {
   "cell_type": "code",
   "execution_count": 12,
   "id": "0b8f5868",
   "metadata": {},
   "outputs": [],
   "source": [
    "import numpy as np\n",
    "output=np.zeros(shape=(size1,size2))"
   ]
  },
  {
   "cell_type": "code",
   "execution_count": 13,
   "id": "a03d254b",
   "metadata": {},
   "outputs": [
    {
     "data": {
      "text/plain": [
       "(4251, 3370)"
      ]
     },
     "execution_count": 13,
     "metadata": {},
     "output_type": "execute_result"
    }
   ],
   "source": [
    "output.shape"
   ]
  },
  {
   "cell_type": "code",
   "execution_count": 14,
   "id": "2e6ead03",
   "metadata": {},
   "outputs": [],
   "source": [
    "x_flatten = x.ravel()"
   ]
  },
  {
   "cell_type": "code",
   "execution_count": 15,
   "id": "8cf62c33",
   "metadata": {},
   "outputs": [
    {
     "name": "stdout",
     "output_type": "stream",
     "text": [
      "New resulting array:  [0 0 0 ... 0 0 0]\n"
     ]
    }
   ],
   "source": [
    "print(\"New resulting array: \", x_flatten)"
   ]
  },
  {
   "cell_type": "code",
   "execution_count": 16,
   "id": "92298f2d",
   "metadata": {},
   "outputs": [
    {
     "data": {
      "text/plain": [
       "(14325870,)"
      ]
     },
     "execution_count": 16,
     "metadata": {},
     "output_type": "execute_result"
    }
   ],
   "source": [
    "x_flatten.shape"
   ]
  },
  {
   "cell_type": "code",
   "execution_count": 17,
   "id": "c18f1166",
   "metadata": {},
   "outputs": [],
   "source": [
    "Field_id = np.arange(len(x_flatten))"
   ]
  },
  {
   "cell_type": "code",
   "execution_count": 18,
   "id": "e906fee9",
   "metadata": {},
   "outputs": [],
   "source": [
    "result = np.column_stack((x_flatten,Field_id))"
   ]
  },
  {
   "cell_type": "code",
   "execution_count": 19,
   "id": "5ae4d2de",
   "metadata": {
    "scrolled": true
   },
   "outputs": [
    {
     "name": "stdout",
     "output_type": "stream",
     "text": [
      "resultant array [[       0        0]\n",
      " [       0        1]\n",
      " [       0        2]\n",
      " ...\n",
      " [       0 14325867]\n",
      " [       0 14325868]\n",
      " [       0 14325869]]\n"
     ]
    }
   ],
   "source": [
    "print (\"resultant array\", str(result))"
   ]
  },
  {
   "cell_type": "code",
   "execution_count": 20,
   "id": "517739d7",
   "metadata": {},
   "outputs": [],
   "source": [
    "result_deleted = np.delete(result, 0, 1)"
   ]
  },
  {
   "cell_type": "code",
   "execution_count": 21,
   "id": "6c829a4e",
   "metadata": {},
   "outputs": [
    {
     "data": {
      "text/plain": [
       "14325870"
      ]
     },
     "execution_count": 21,
     "metadata": {},
     "output_type": "execute_result"
    }
   ],
   "source": [
    "len(result_deleted) "
   ]
  },
  {
   "cell_type": "code",
   "execution_count": 22,
   "id": "4742923b",
   "metadata": {},
   "outputs": [
    {
     "data": {
      "text/plain": [
       "14325870"
      ]
     },
     "execution_count": 22,
     "metadata": {},
     "output_type": "execute_result"
    }
   ],
   "source": [
    "len(np.unique(result_deleted))"
   ]
  },
  {
   "cell_type": "code",
   "execution_count": 23,
   "id": "bf4e2838",
   "metadata": {
    "scrolled": true
   },
   "outputs": [
    {
     "name": "stdout",
     "output_type": "stream",
     "text": [
      "resultant array [[       0]\n",
      " [       1]\n",
      " [       2]\n",
      " ...\n",
      " [14325867]\n",
      " [14325868]\n",
      " [14325869]]\n"
     ]
    }
   ],
   "source": [
    "print (\"resultant array\", str(result_deleted))"
   ]
  },
  {
   "cell_type": "code",
   "execution_count": 24,
   "id": "91fc3292",
   "metadata": {
    "scrolled": true
   },
   "outputs": [],
   "source": [
    "array_output = np.reshape(result_deleted, (4251, 3370))"
   ]
  },
  {
   "cell_type": "code",
   "execution_count": 25,
   "id": "0c8b01db",
   "metadata": {},
   "outputs": [
    {
     "data": {
      "text/plain": [
       "(4251, 3370)"
      ]
     },
     "execution_count": 25,
     "metadata": {},
     "output_type": "execute_result"
    }
   ],
   "source": [
    "array_output.shape"
   ]
  },
  {
   "cell_type": "code",
   "execution_count": 26,
   "id": "c49aea9b",
   "metadata": {},
   "outputs": [],
   "source": [
    "import rasterio"
   ]
  },
  {
   "cell_type": "code",
   "execution_count": 27,
   "id": "30299e16",
   "metadata": {},
   "outputs": [],
   "source": [
    "dst_crs='EPSG:32636'"
   ]
  },
  {
   "cell_type": "code",
   "execution_count": 28,
   "id": "86b08873",
   "metadata": {},
   "outputs": [],
   "source": [
    "output = np.int32(array_output)"
   ]
  },
  {
   "cell_type": "code",
   "execution_count": 29,
   "id": "bd3738e5",
   "metadata": {},
   "outputs": [],
   "source": [
    "with rasterio.open(\n",
    "    'field_id.tif',\n",
    "    'w',\n",
    "    driver='GTiff',\n",
    "    height=output.shape[0],\n",
    "    width=output.shape[1],\n",
    "    count=1,\n",
    "    dtype=np.int32,\n",
    "    crs=dst_crs,\n",
    "    transform=afn,\n",
    ") as dest_file:\n",
    "    dest_file.write(output, 1)\n",
    "dest_file.close()"
   ]
  },
  {
   "cell_type": "code",
   "execution_count": null,
   "id": "546baccb",
   "metadata": {},
   "outputs": [],
   "source": []
  }
 ],
 "metadata": {
  "kernelspec": {
   "display_name": "Python 3 (ipykernel)",
   "language": "python",
   "name": "python3"
  },
  "language_info": {
   "codemirror_mode": {
    "name": "ipython",
    "version": 3
   },
   "file_extension": ".py",
   "mimetype": "text/x-python",
   "name": "python",
   "nbconvert_exporter": "python",
   "pygments_lexer": "ipython3",
   "version": "3.9.6"
  }
 },
 "nbformat": 4,
 "nbformat_minor": 5
}
