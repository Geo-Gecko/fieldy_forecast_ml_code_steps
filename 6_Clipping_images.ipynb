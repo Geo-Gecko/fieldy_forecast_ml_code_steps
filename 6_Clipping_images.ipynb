{
 "cells": [
  {
   "cell_type": "markdown",
   "id": "2e7448f4",
   "metadata": {},
   "source": [
    "# Description\n",
    "This script's purpose is to clip multiple images using one extent.\n"
   ]
  },
  {
   "cell_type": "code",
   "execution_count": null,
   "id": "39a37dfe",
   "metadata": {},
   "outputs": [],
   "source": [
    "from osgeo import gdal\n",
    "import os"
   ]
  },
  {
   "cell_type": "code",
   "execution_count": null,
   "id": "53862948",
   "metadata": {},
   "outputs": [],
   "source": [
    "#Define the location of the input images and where the output image will be stored\n",
    "inputPath = 'data/resampled/20200304/'\n",
    "outputPath = 'data/00/20200304/'\n"
   ]
  },
  {
   "cell_type": "code",
   "execution_count": null,
   "id": "ffcf3439",
   "metadata": {},
   "outputs": [],
   "source": [
    "bandList = [band for band in os.listdir(inputPath) if band.endswith(\".tif\")]\n",
    "bandList\n",
    "# len(bandList)"
   ]
  },
  {
   "cell_type": "code",
   "execution_count": null,
   "id": "1c114c3e",
   "metadata": {},
   "outputs": [],
   "source": [
    "#Define the shapefile whose extent will be used to clip the images \n",
    "shp_clip = 'BB_PDL_new2_reprojected.shp'"
   ]
  },
  {
   "cell_type": "code",
   "execution_count": null,
   "id": "7cb16faf",
   "metadata": {},
   "outputs": [],
   "source": [
    "for band in bandList:\n",
    "    print(band[0:])\n",
    "    options = gdal.WarpOptions(cutlineDSName=shp_clip ,cropToCutline=True)\n",
    "    outBand = gdal.Warp(srcDSOrSrcDSTab= inputPath +\"/\"+band,\n",
    "                        destNameOrDestDS=outputPath+band[0:],\n",
    "                        options=options)\n",
    "    outBand= None"
   ]
  }
 ],
 "metadata": {
  "kernelspec": {
   "display_name": "Python 3",
   "language": "python",
   "name": "python3"
  },
  "language_info": {
   "codemirror_mode": {
    "name": "ipython",
    "version": 3
   },
   "file_extension": ".py",
   "mimetype": "text/x-python",
   "name": "python",
   "nbconvert_exporter": "python",
   "pygments_lexer": "ipython3",
   "version": "3.9.2"
  }
 },
 "nbformat": 4,
 "nbformat_minor": 5
}
