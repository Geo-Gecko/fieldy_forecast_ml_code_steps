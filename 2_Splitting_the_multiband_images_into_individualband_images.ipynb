{
 "cells": [
  {
   "cell_type": "markdown",
   "id": "59e69030",
   "metadata": {},
   "source": [
    "For each mulitband image, split and separate the bands to create individual image bands."
   ]
  },
  {
   "cell_type": "code",
   "execution_count": null,
   "id": "169d31c7",
   "metadata": {},
   "outputs": [],
   "source": [
    "import os\n",
    "\n",
    "f_ = os.listdir(\"20181003_20181004\")\n",
    "# f_20200208_20200210 = os.listdir(\"20200208_20200210\")\n",
    "\n",
    "for dir_ in [(\"20181003_20181004\", f_), (\"20181003_20181004\", f_)]:\n",
    "#     print (dir_)\n",
    "    for file_ in dir_[1]:\n",
    "#         print (file_)\n",
    "        for band_ in range(1,13):\n",
    "            os.system(f\"gdal_translate -b {band_} {dir_[0]}//{file_}//response.tiff {dir_[0]}//{file_}//band{band_}.tif\")"
   ]
  }
 ],
 "metadata": {
  "kernelspec": {
   "display_name": "Python 3",
   "language": "python",
   "name": "python3"
  },
  "language_info": {
   "codemirror_mode": {
    "name": "ipython",
    "version": 3
   },
   "file_extension": ".py",
   "mimetype": "text/x-python",
   "name": "python",
   "nbconvert_exporter": "python",
   "pygments_lexer": "ipython3",
   "version": "3.9.2"
  }
 },
 "nbformat": 4,
 "nbformat_minor": 5
}
