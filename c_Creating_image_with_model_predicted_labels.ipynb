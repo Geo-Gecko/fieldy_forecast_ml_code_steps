{
 "cells": [
  {
   "cell_type": "markdown",
   "id": "5c168f81",
   "metadata": {},
   "source": [
    "# Description\n",
    "This script's purpose is to create a new image that has the model prediction label as its column value.\n",
    "\n",
    "This is done by transforming the pixels of an image of the predicted area into an array and assigning a unique value to each array element. This unique value will be the id for that pixel. The array is then joined to the predicted csv using its unique value column and the fid column from the csv. The output of the join is then exported with the geographical information of the image so as to make it possible to display."
   ]
  },
  {
   "cell_type": "code",
   "execution_count": null,
   "id": "e0f7ad66",
   "metadata": {},
   "outputs": [],
   "source": [
    "import geopandas as gpd\n",
    "from shapely.geometry import Polygon\n",
    "import numpy as np\n",
    "import pandas as pd\n",
    "from osgeo import gdal\n",
    "from affine import Affine\n",
    "import numpy as np\n",
    "import rasterio"
   ]
  },
  {
   "cell_type": "code",
   "execution_count": null,
   "id": "0e344da1",
   "metadata": {},
   "outputs": [],
   "source": [
    "#Reading the output from the prediction script\n",
    "data1 = pd.read_csv(\"cashews_benin_prediction_PDL_20220217.csv\")\n",
    "data1.head()\n",
    "csv = data1.drop(columns=['row_loc', 'col_loc','tile'])\n",
    "csv_predicted_class= data1.drop(columns=['fid','row_loc', 'col_loc','tile'])\n",
    "(unique, counts) = np.unique(csv_predicted_class, return_counts=True)\n",
    "frequencies = np.asarray((unique, counts)).T\n",
    "print(frequencies)"
   ]
  },
  {
   "cell_type": "code",
   "execution_count": null,
   "id": "7fb7e324",
   "metadata": {},
   "outputs": [],
   "source": [
    "#Open image created from Creating_IDs_for_imagepixels script\n",
    "step1 = gdal.Open('large_area_fid/0_field_id.tif', gdal.GA_ReadOnly)\n",
    "from PIL import Image\n",
    "im = Image.open('large_area_fid/0_field_id.tif')\n",
    "im = np.array(im)\n",
    "im.shape"
   ]
  },
  {
   "cell_type": "code",
   "execution_count": null,
   "id": "06766aeb",
   "metadata": {},
   "outputs": [],
   "source": [
    "#Obtaining its existing  coordinates information of the image file \n",
    "GT_input = step1.GetGeoTransform()\n",
    "print(GT_input) \n",
    "transf = (399664.5859337867, 10.0, 0.0, 1100650.3206286626, 0.0, -10.0) #as obtained from GT_input\n",
    "afn = Affine.from_gdal(*transf)"
   ]
  },
  {
   "cell_type": "code",
   "execution_count": null,
   "id": "0313d8ca",
   "metadata": {},
   "outputs": [],
   "source": [
    "#Reading the image and creating an array from it \n",
    "step2 = step1.GetRasterBand(1)\n",
    "img_as_array = step2.ReadAsArray()\n",
    "x =img_as_array\n",
    "size1,size2=img_as_array.shape\n",
    "output=np.zeros(shape=(size1,size2))\n",
    "print(\"Image shape is\",output.shape)\n",
    "\n",
    "x_flatten = x.flatten()\n",
    "print(\"Flattened image shape is\",x_flatten.shape)"
   ]
  },
  {
   "cell_type": "code",
   "execution_count": null,
   "id": "5277db7b",
   "metadata": {},
   "outputs": [],
   "source": [
    "#Creating a dataframe from the flattened image and joining it to the predicted csv table (data_1 input above)\n",
    "df_x = pd.DataFrame(x_flatten, columns = ['fid'])\n",
    "csv_0_merged = pd.merge(df_x, csv, on=[\"fid\"], how='left')\n",
    "csv_0_merged.head()"
   ]
  },
  {
   "cell_type": "code",
   "execution_count": null,
   "id": "dc0efe37",
   "metadata": {},
   "outputs": [],
   "source": [
    "#Keeping only the joined column and finding the frequency of each class label in the image\n",
    "csv_0_merged_reduced = csv_0_merged.drop(columns=['fid'])\n",
    "(unique, counts) = np.unique(csv_0_merged_reduced, return_counts=True)\n",
    "frequencies_2 = np.asarray((unique, counts)).T\n",
    "print(frequencies_2)"
   ]
  },
  {
   "cell_type": "code",
   "execution_count": null,
   "id": "211d5d80",
   "metadata": {},
   "outputs": [],
   "source": [
    "#reshaping array to the original image shape\n",
    "output = csv_0_merged_reduced.to_numpy()\n",
    "array_output = np.reshape(output, (11021, 11125))#enter details as obtained from output.shape"
   ]
  },
  {
   "cell_type": "code",
   "execution_count": null,
   "id": "63a75d65",
   "metadata": {},
   "outputs": [],
   "source": [
    "#Exporting the array created as a tif file\n",
    "dst_crs='EPSG:32630'#coordinate system of the destination tif\n",
    "output = np.int32(array_output)"
   ]
  },
  {
   "cell_type": "code",
   "execution_count": null,
   "id": "c564c478",
   "metadata": {},
   "outputs": [],
   "source": [
    "with rasterio.open(\n",
    "    'Predicted_EPSG_32630.tif',#name of the outputfile \n",
    "    'w',\n",
    "    driver='GTiff',\n",
    "    height=array_output.shape[0],\n",
    "    width=array_output.shape[1],\n",
    "    count=1,\n",
    "    dtype=np.int32,\n",
    "    crs=dst_crs,\n",
    "    transform=afn,\n",
    ") as dest_file:\n",
    "    dest_file.write(array_output, 1)\n",
    "dest_file.close()"
   ]
  }
 ],
 "metadata": {
  "kernelspec": {
   "display_name": "Python 3",
   "language": "python",
   "name": "python3"
  },
  "language_info": {
   "codemirror_mode": {
    "name": "ipython",
    "version": 3
   },
   "file_extension": ".py",
   "mimetype": "text/x-python",
   "name": "python",
   "nbconvert_exporter": "python",
   "pygments_lexer": "ipython3",
   "version": "3.9.2"
  }
 },
 "nbformat": 4,
 "nbformat_minor": 5
}
